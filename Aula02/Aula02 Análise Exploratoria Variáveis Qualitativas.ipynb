{
 "cells": [
  {
   "cell_type": "markdown",
   "metadata": {},
   "source": [
    "___\n",
    "# Análise Exploratória: Variáveis qualitativas\n",
    "___\n",
    "\n",
    "## Aula 02\n",
    "\n",
    "\n",
    "**Links Úteis:**\n",
    "1.\tLeitura prévia necessária: Magalhães e Lima (7ª. Edição): pág. 9 a 16 – destacando para variáveis qualitativas.\n",
    "2.\t10 Minutes to Pandas: http://pandas.pydata.org/pandas-docs/stable/10min.html\n",
    "3.\tEssential Basic Functionality: http://pandas.pydata.org/pandas-docs/stable/basics.html\n",
    "\n",
    "**Hoje:**\n",
    "1.\tAnalisar variáveis qualitativas de forma uni e bivariadas utilizando tabelas de frequências e gráficos de barras e de pizza (ou setor).\n",
    "\n",
    "**Próxima aula:**\n",
    "1.\tLeitura prévia necessária: Magalhães e Lima (7ª. Edição): pág. 9 a 17 – destacando para variáveis quantitativas; pág. 106 e 107 (Definição 4.1 e Exemplo 4.1).\n",
    "\n",
    "___\n"
   ]
  },
  {
   "cell_type": "markdown",
   "metadata": {},
   "source": [
    "## <font color='blue'>Empresa de TV</font>\n",
    "\n",
    "Uma empresa de TV via satélite criou recentemente dois tipos de planos de canais (A e B).\n",
    "\n",
    "A empresa tem como objetivo estudar o perfil dos clientes que aderiram ao plano para enviar malas diretas aos potenciais clientes de cada tipo de plano.\n",
    "\n",
    "A base de dados apresenta algumas variáveis para uma amostra de 82 clientes selecionados aleatoriamente dentre aqueles que aderiram aos planos. As variáveis têm os seguintes significados:\n",
    "\n",
    "* CLIENTE: identificador do cliente.\n",
    "* PLANO: apresenta o plano adquirido pelo cliente, A ou B. \n",
    "* EC: apresenta estado civil do cliente no momento da adesão ao plano, Casado, Solteiro e Outros.\n",
    "* SATISFACAO: grau de satisfação do cliente pelo plano,  Muito satisfeito, Satisfeito, Indiferente, Insatisfeito e Muito insatisfeito.\n",
    "* RENDA: renda pessoal do cliente, em milhares de reais.\n",
    "\n",
    "O arquivo `EmpresaTV.xls` contém as variáveis descritas acima.\n",
    "\n",
    "Faça uma análise exploratória apenas com as variáveis qualitativas com foco no objetivo da empresa.\n",
    "Desenvolver as seguintes visualizações:\n",
    "\n",
    "1. Gráfico de colunas (bar) e setor (pie) da frequência relativa das variáveis qualitativas.\n",
    "2. Tabela Cruzada entre pares de variaveis qualitativas. Montar o gráfico de colunas. Repetir o processo habilitando a opção \"stacked=True\".\n",
    "\n"
   ]
  },
  {
   "cell_type": "code",
   "execution_count": 1,
   "metadata": {
    "collapsed": false
   },
   "outputs": [],
   "source": [
    "%matplotlib inline\n",
    "import pandas as pd\n",
    "import matplotlib.pyplot as plt\n",
    "import os"
   ]
  },
  {
   "cell_type": "code",
   "execution_count": 3,
   "metadata": {
    "collapsed": false
   },
   "outputs": [
    {
     "name": "stdout",
     "output_type": "stream",
     "text": [
      "Esperamos trabalhar no diretório\n",
      "C:\\Users\\Usuario\\Anaconda3\\Scripts\n"
     ]
    }
   ],
   "source": [
    "print('Esperamos trabalhar no diretório')\n",
    "print(os.getcwd())"
   ]
  },
  {
   "cell_type": "code",
   "execution_count": 5,
   "metadata": {
    "collapsed": false
   },
   "outputs": [],
   "source": [
    "dados = pd.read_excel(\"C:\\\\Users\\\\Usuario\\\\Documents\\\\Insper\\\\C.D\\\\DP\\\\Aula 02\\\\EmpresaTV.xlsx\")"
   ]
  },
  {
   "cell_type": "code",
   "execution_count": 6,
   "metadata": {
    "collapsed": false
   },
   "outputs": [
    {
     "data": {
      "text/html": [
       "<div>\n",
       "<table border=\"1\" class=\"dataframe\">\n",
       "  <thead>\n",
       "    <tr style=\"text-align: right;\">\n",
       "      <th></th>\n",
       "      <th>CLIENTE</th>\n",
       "      <th>PLANO</th>\n",
       "      <th>EC</th>\n",
       "      <th>SATISFACAO</th>\n",
       "      <th>RENDA</th>\n",
       "    </tr>\n",
       "  </thead>\n",
       "  <tbody>\n",
       "    <tr>\n",
       "      <th>0</th>\n",
       "      <td>1</td>\n",
       "      <td>A</td>\n",
       "      <td>Casado</td>\n",
       "      <td>Muito Satisfeito</td>\n",
       "      <td>21.4</td>\n",
       "    </tr>\n",
       "    <tr>\n",
       "      <th>1</th>\n",
       "      <td>2</td>\n",
       "      <td>A</td>\n",
       "      <td>Solteiro</td>\n",
       "      <td>Muito Satisfeito</td>\n",
       "      <td>17.2</td>\n",
       "    </tr>\n",
       "    <tr>\n",
       "      <th>2</th>\n",
       "      <td>3</td>\n",
       "      <td>A</td>\n",
       "      <td>Outros</td>\n",
       "      <td>Muito Satisfeito</td>\n",
       "      <td>15.6</td>\n",
       "    </tr>\n",
       "    <tr>\n",
       "      <th>3</th>\n",
       "      <td>4</td>\n",
       "      <td>A</td>\n",
       "      <td>Casado</td>\n",
       "      <td>Satisfeito</td>\n",
       "      <td>10.4</td>\n",
       "    </tr>\n",
       "    <tr>\n",
       "      <th>4</th>\n",
       "      <td>5</td>\n",
       "      <td>A</td>\n",
       "      <td>Solteiro</td>\n",
       "      <td>Muito Satisfeito</td>\n",
       "      <td>17.6</td>\n",
       "    </tr>\n",
       "  </tbody>\n",
       "</table>\n",
       "</div>"
      ],
      "text/plain": [
       "   CLIENTE PLANO        EC        SATISFACAO  RENDA\n",
       "0        1     A    Casado  Muito Satisfeito   21.4\n",
       "1        2     A  Solteiro  Muito Satisfeito   17.2\n",
       "2        3     A    Outros  Muito Satisfeito   15.6\n",
       "3        4     A    Casado        Satisfeito   10.4\n",
       "4        5     A  Solteiro  Muito Satisfeito   17.6"
      ]
     },
     "execution_count": 6,
     "metadata": {},
     "output_type": "execute_result"
    }
   ],
   "source": [
    "dados.head()"
   ]
  },
  {
   "cell_type": "code",
   "execution_count": 7,
   "metadata": {
    "collapsed": false
   },
   "outputs": [
    {
     "data": {
      "text/html": [
       "<div>\n",
       "<table border=\"1\" class=\"dataframe\">\n",
       "  <thead>\n",
       "    <tr style=\"text-align: right;\">\n",
       "      <th></th>\n",
       "      <th>CLIENTE</th>\n",
       "      <th>PLANO</th>\n",
       "      <th>EC</th>\n",
       "      <th>SATISFACAO</th>\n",
       "    </tr>\n",
       "  </thead>\n",
       "  <tbody>\n",
       "    <tr>\n",
       "      <th>0</th>\n",
       "      <td>1</td>\n",
       "      <td>A</td>\n",
       "      <td>Casado</td>\n",
       "      <td>Muito Satisfeito</td>\n",
       "    </tr>\n",
       "    <tr>\n",
       "      <th>1</th>\n",
       "      <td>2</td>\n",
       "      <td>A</td>\n",
       "      <td>Solteiro</td>\n",
       "      <td>Muito Satisfeito</td>\n",
       "    </tr>\n",
       "    <tr>\n",
       "      <th>2</th>\n",
       "      <td>3</td>\n",
       "      <td>A</td>\n",
       "      <td>Outros</td>\n",
       "      <td>Muito Satisfeito</td>\n",
       "    </tr>\n",
       "    <tr>\n",
       "      <th>3</th>\n",
       "      <td>4</td>\n",
       "      <td>A</td>\n",
       "      <td>Casado</td>\n",
       "      <td>Satisfeito</td>\n",
       "    </tr>\n",
       "    <tr>\n",
       "      <th>4</th>\n",
       "      <td>5</td>\n",
       "      <td>A</td>\n",
       "      <td>Solteiro</td>\n",
       "      <td>Muito Satisfeito</td>\n",
       "    </tr>\n",
       "  </tbody>\n",
       "</table>\n",
       "</div>"
      ],
      "text/plain": [
       "   CLIENTE PLANO        EC        SATISFACAO\n",
       "0        1     A    Casado  Muito Satisfeito\n",
       "1        2     A  Solteiro  Muito Satisfeito\n",
       "2        3     A    Outros  Muito Satisfeito\n",
       "3        4     A    Casado        Satisfeito\n",
       "4        5     A  Solteiro  Muito Satisfeito"
      ]
     },
     "execution_count": 7,
     "metadata": {},
     "output_type": "execute_result"
    }
   ],
   "source": [
    "#Selecionando parte do dataframe - Apenas as variáveis qualitativas\n",
    "dados.iloc[0:5,0:4]"
   ]
  },
  {
   "cell_type": "code",
   "execution_count": 8,
   "metadata": {
    "collapsed": false
   },
   "outputs": [
    {
     "data": {
      "text/html": [
       "<div>\n",
       "<table border=\"1\" class=\"dataframe\">\n",
       "  <thead>\n",
       "    <tr style=\"text-align: right;\">\n",
       "      <th></th>\n",
       "      <th>RENDA</th>\n",
       "    </tr>\n",
       "  </thead>\n",
       "  <tbody>\n",
       "    <tr>\n",
       "      <th>0</th>\n",
       "      <td>21.4</td>\n",
       "    </tr>\n",
       "    <tr>\n",
       "      <th>1</th>\n",
       "      <td>17.2</td>\n",
       "    </tr>\n",
       "    <tr>\n",
       "      <th>2</th>\n",
       "      <td>15.6</td>\n",
       "    </tr>\n",
       "    <tr>\n",
       "      <th>3</th>\n",
       "      <td>10.4</td>\n",
       "    </tr>\n",
       "    <tr>\n",
       "      <th>4</th>\n",
       "      <td>17.6</td>\n",
       "    </tr>\n",
       "  </tbody>\n",
       "</table>\n",
       "</div>"
      ],
      "text/plain": [
       "   RENDA\n",
       "0   21.4\n",
       "1   17.2\n",
       "2   15.6\n",
       "3   10.4\n",
       "4   17.6"
      ]
     },
     "execution_count": 8,
     "metadata": {},
     "output_type": "execute_result"
    }
   ],
   "source": [
    "#Selecionando parte do dataframe - Apenas a variável quantitativa\n",
    "pd.DataFrame(dados.iloc[0:5,-1])"
   ]
  },
  {
   "cell_type": "code",
   "execution_count": 9,
   "metadata": {
    "collapsed": false
   },
   "outputs": [
    {
     "data": {
      "text/plain": [
       "(82, 5)"
      ]
     },
     "execution_count": 9,
     "metadata": {},
     "output_type": "execute_result"
    }
   ],
   "source": [
    "dados.shape"
   ]
  },
  {
   "cell_type": "code",
   "execution_count": 10,
   "metadata": {
    "collapsed": false
   },
   "outputs": [
    {
     "data": {
      "text/plain": [
       "['CLIENTE', 'PLANO', 'EC', 'SATISFACAO', 'RENDA']"
      ]
     },
     "execution_count": 10,
     "metadata": {},
     "output_type": "execute_result"
    }
   ],
   "source": [
    "list(dados)"
   ]
  },
  {
   "cell_type": "code",
   "execution_count": 11,
   "metadata": {
    "collapsed": false
   },
   "outputs": [],
   "source": [
    "dados.PLANO = dados.PLANO.astype('category')\n",
    "dados.EC = dados.EC.astype('category')\n",
    "dados.SATISFACAO = dados.SATISFACAO.astype('category')\n",
    "dados.RENDA = dados.RENDA.astype('float')"
   ]
  },
  {
   "cell_type": "markdown",
   "metadata": {},
   "source": [
    "___\n",
    "# Análise univariada das variáveis qualitativas"
   ]
  },
  {
   "cell_type": "code",
   "execution_count": 12,
   "metadata": {
    "collapsed": false
   },
   "outputs": [
    {
     "name": "stdout",
     "output_type": "stream",
     "text": [
      "Frequências absolutas por PLANO:\n",
      "A    46\n",
      "B    36\n",
      "Name: PLANO, dtype: int64 \n",
      "\n",
      "Frequências absolutas por Estado Civil:\n",
      "Casado      36\n",
      "Solteiro    33\n",
      "Outros      13\n",
      "Name: EC, dtype: int64 \n",
      "\n",
      "Frequências absolutas por SATISFACAO:\n",
      "Muito Insatisfeito     8\n",
      "Insatisfeito          16\n",
      "Indiferente           19\n",
      "Satisfeito            27\n",
      "Muito Satisfeito      12\n",
      "Name: SATISFACAO, dtype: int64 \n",
      "\n"
     ]
    }
   ],
   "source": [
    "# Tabelas univariada\n",
    "print('Frequências absolutas por PLANO:')\n",
    "ut1 = dados.PLANO.value_counts().reindex(['A', 'B'])\n",
    "print(ut1,'\\n')\n",
    "\n",
    "print('Frequências absolutas por Estado Civil:')\n",
    "ut2 = dados.EC.value_counts().reindex(['Casado', 'Solteiro', 'Outros'])\n",
    "print(ut2,'\\n')\n",
    "\n",
    "print('Frequências absolutas por SATISFACAO:')\n",
    "ut3 = dados.SATISFACAO.value_counts().reindex(['Muito Insatisfeito', 'Insatisfeito', 'Indiferente', 'Satisfeito', \n",
    "                                               'Muito Satisfeito'])\n",
    "print(ut3,'\\n')"
   ]
  },
  {
   "cell_type": "code",
   "execution_count": 13,
   "metadata": {
    "collapsed": false,
    "scrolled": true
   },
   "outputs": [
    {
     "name": "stdout",
     "output_type": "stream",
     "text": [
      "Frequências relativas por PLANO:\n",
      "A    56.1\n",
      "B    43.9\n",
      "Name: PLANO, dtype: float64 \n",
      "\n",
      "Frequências relativas por Estado Civil:\n",
      "Casado      43.9\n",
      "Solteiro    40.2\n",
      "Outros      15.9\n",
      "Name: EC, dtype: float64 \n",
      "\n",
      "Frequências relativas por SATISFACAO:\n",
      "Muito Insatisfeito     9.8\n",
      "Insatisfeito          19.5\n",
      "Indiferente           23.2\n",
      "Satisfeito            32.9\n",
      "Muito Satisfeito      14.6\n",
      "Name: SATISFACAO, dtype: float64 \n",
      "\n"
     ]
    }
   ],
   "source": [
    "# Tabelas univariada\n",
    "print('Frequências relativas por PLANO:')\n",
    "ut1 = (dados.PLANO.value_counts(True)*100).round(decimals=1).reindex(['A', 'B'])\n",
    "print(ut1,'\\n')\n",
    "\n",
    "print('Frequências relativas por Estado Civil:')\n",
    "ut2 = (dados.EC.value_counts(True)*100).round(decimals=1).reindex(['Casado', 'Solteiro', 'Outros'])\n",
    "print(ut2,'\\n')\n",
    "\n",
    "print('Frequências relativas por SATISFACAO:')\n",
    "ut3 = (dados.SATISFACAO.value_counts(True)*100).round(decimals=1).reindex(['Muito Insatisfeito', 'Insatisfeito', 'Indiferente', \n",
    "                                                                           'Satisfeito', 'Muito Satisfeito'])\n",
    "print(ut3,'\\n')"
   ]
  },
  {
   "cell_type": "code",
   "execution_count": 14,
   "metadata": {
    "collapsed": false
   },
   "outputs": [
    {
     "data": {
      "text/plain": [
       "<matplotlib.text.Text at 0x91b9940>"
      ]
     },
     "execution_count": 14,
     "metadata": {},
     "output_type": "execute_result"
    },
    {
     "data": {
      "image/png": "[encoded data removed]",
      "text/plain": [
       "<matplotlib.figure.Figure at 0x91a61d0>"
      ]
     },
     "metadata": {},
     "output_type": "display_data"
    }
   ],
   "source": [
    "# Gráfico de barras\n",
    "plot = ut1.plot(kind='bar',title='PLANOS',figsize=(6, 6),color=('b','g'))\n",
    "plt.ylabel('Freq.Relativa (em%)')\n",
    "plt.xlabel('Planos')"
   ]
  },
  {
   "cell_type": "code",
   "execution_count": 15,
   "metadata": {
    "collapsed": false
   },
   "outputs": [
    {
     "data": {
      "text/plain": [
       "<matplotlib.text.Text at 0x5f885f8>"
      ]
     },
     "execution_count": 15,
     "metadata": {},
     "output_type": "execute_result"
    },
    {
     "data": {
      "image/png": "[encoded data removed]",
      "text/plain": [
       "<matplotlib.figure.Figure at 0x916f240>"
      ]
     },
     "metadata": {},
     "output_type": "display_data"
    }
   ],
   "source": [
    "plot = ut2.plot(kind='bar',title='ESTADO CIVIL',figsize=(6, 6),color=('b','g','r'))\n",
    "plt.ylabel('Freq.Relativa (em%)')\n",
    "plt.xlabel('Estado Civil')"
   ]
  },
  {
   "cell_type": "code",
   "execution_count": 17,
   "metadata": {
    "collapsed": false
   },
   "outputs": [
    {
     "data": {
      "text/plain": [
       "<matplotlib.text.Text at 0x5f8fa90>"
      ]
     },
     "execution_count": 17,
     "metadata": {},
     "output_type": "execute_result"
    },
    {
     "data": {
      "image/png": "[encoded data removed]",
      "text/plain": [
       "<matplotlib.figure.Figure at 0x63195f8>"
      ]
     },
     "metadata": {},
     "output_type": "display_data"
    }
   ],
   "source": [
    "plot = ut3.plot(kind='bar',title='SATISFAÇÃO',figsize=(6, 6),color=('b','g','r','c','m'))\n",
    "plt.ylabel('Freq.Relativa (em%)')\n",
    "plt.xlabel('Satisfação')"
   ]
  },
  {
   "cell_type": "code",
   "execution_count": 18,
   "metadata": {
    "collapsed": false
   },
   "outputs": [
    {
     "data": {
      "image/png": "[encoded data removed]",
      "text/plain": [
       "<matplotlib.figure.Figure at 0x631c048>"
      ]
     },
     "metadata": {},
     "output_type": "display_data"
    }
   ],
   "source": [
    "# Gráfico de Pizza\n",
    "plot = ut1.plot(kind='pie',title='PLANOS',autopct='%.1f',figsize=(6, 6))"
   ]
  },
  {
   "cell_type": "code",
   "execution_count": 19,
   "metadata": {
    "collapsed": false
   },
   "outputs": [
    {
     "data": {
      "image/png": "[encoded data removed]",
      "text/plain": [
       "<matplotlib.figure.Figure at 0x63ba0f0>"
      ]
     },
     "metadata": {},
     "output_type": "display_data"
    }
   ],
   "source": [
    "plot = ut2.plot(kind='pie',title='Estado Civil',autopct='%.1f',figsize=(6, 6))"
   ]
  },
  {
   "cell_type": "code",
   "execution_count": 20,
   "metadata": {
    "collapsed": false
   },
   "outputs": [
    {
     "data": {
      "image/png": "[encoded data removed]",
      "text/plain": [
       "<matplotlib.figure.Figure at 0x64176d8>"
      ]
     },
     "metadata": {},
     "output_type": "display_data"
    }
   ],
   "source": [
    "plot = ut3.plot(kind='pie',title='Satisfação com Plano',autopct='%.1f',figsize=(6, 6))"
   ]
  },
  {
   "cell_type": "markdown",
   "metadata": {},
   "source": [
    "___\n",
    "# Tabela cruzada entre variáveis qualitativas"
   ]
  },
  {
   "cell_type": "markdown",
   "metadata": {},
   "source": [
    "## *Análises de Estado Civil versus Plano*"
   ]
  },
  {
   "cell_type": "code",
   "execution_count": 21,
   "metadata": {
    "collapsed": false
   },
   "outputs": [
    {
     "name": "stdout",
     "output_type": "stream",
     "text": [
      "Tabela Cruzada por total GERAL:\n"
     ]
    },
    {
     "data": {
      "text/html": [
       "<div>\n",
       "<table border=\"1\" class=\"dataframe\">\n",
       "  <thead>\n",
       "    <tr style=\"text-align: right;\">\n",
       "      <th>PLANO</th>\n",
       "      <th>A</th>\n",
       "      <th>B</th>\n",
       "      <th>All</th>\n",
       "    </tr>\n",
       "    <tr>\n",
       "      <th>ESTADO CIVIL</th>\n",
       "      <th></th>\n",
       "      <th></th>\n",
       "      <th></th>\n",
       "    </tr>\n",
       "  </thead>\n",
       "  <tbody>\n",
       "    <tr>\n",
       "      <th>Casado</th>\n",
       "      <td>26</td>\n",
       "      <td>10</td>\n",
       "      <td>36</td>\n",
       "    </tr>\n",
       "    <tr>\n",
       "      <th>Solteiro</th>\n",
       "      <td>13</td>\n",
       "      <td>20</td>\n",
       "      <td>33</td>\n",
       "    </tr>\n",
       "    <tr>\n",
       "      <th>Outros</th>\n",
       "      <td>7</td>\n",
       "      <td>6</td>\n",
       "      <td>13</td>\n",
       "    </tr>\n",
       "    <tr>\n",
       "      <th>All</th>\n",
       "      <td>46</td>\n",
       "      <td>36</td>\n",
       "      <td>82</td>\n",
       "    </tr>\n",
       "  </tbody>\n",
       "</table>\n",
       "</div>"
      ],
      "text/plain": [
       "PLANO          A   B  All\n",
       "ESTADO CIVIL             \n",
       "Casado        26  10   36\n",
       "Solteiro      13  20   33\n",
       "Outros         7   6   13\n",
       "All           46  36   82"
      ]
     },
     "execution_count": 21,
     "metadata": {},
     "output_type": "execute_result"
    }
   ],
   "source": [
    "#Tabela cruzada Estado Civil x Plano\n",
    "print('Tabela Cruzada por total GERAL:')\n",
    "ct=pd.crosstab(dados.EC,dados.PLANO,margins=True,rownames=['ESTADO CIVIL'], colnames=['PLANO'])\n",
    "ct=ct.loc[['Casado','Solteiro','Outros','All']]\n",
    "ct"
   ]
  },
  {
   "cell_type": "code",
   "execution_count": 22,
   "metadata": {
    "collapsed": false
   },
   "outputs": [],
   "source": [
    "#Posição do total geral da tabela nomeada de ct\n",
    "n=ct.iloc[3,2]"
   ]
  },
  {
   "cell_type": "code",
   "execution_count": 23,
   "metadata": {
    "collapsed": false
   },
   "outputs": [
    {
     "name": "stdout",
     "output_type": "stream",
     "text": [
      "Tabela Cruzada por total GERAL (em %):\n"
     ]
    },
    {
     "data": {
      "text/html": [
       "<div>\n",
       "<table border=\"1\" class=\"dataframe\">\n",
       "  <thead>\n",
       "    <tr style=\"text-align: right;\">\n",
       "      <th>PLANO</th>\n",
       "      <th>A</th>\n",
       "      <th>B</th>\n",
       "      <th>All</th>\n",
       "    </tr>\n",
       "    <tr>\n",
       "      <th>ESTADO CIVIL</th>\n",
       "      <th></th>\n",
       "      <th></th>\n",
       "      <th></th>\n",
       "    </tr>\n",
       "  </thead>\n",
       "  <tbody>\n",
       "    <tr>\n",
       "      <th>Casado</th>\n",
       "      <td>31.7</td>\n",
       "      <td>12.2</td>\n",
       "      <td>43.9</td>\n",
       "    </tr>\n",
       "    <tr>\n",
       "      <th>Solteiro</th>\n",
       "      <td>15.9</td>\n",
       "      <td>24.4</td>\n",
       "      <td>40.2</td>\n",
       "    </tr>\n",
       "    <tr>\n",
       "      <th>Outros</th>\n",
       "      <td>8.5</td>\n",
       "      <td>7.3</td>\n",
       "      <td>15.9</td>\n",
       "    </tr>\n",
       "    <tr>\n",
       "      <th>All</th>\n",
       "      <td>56.1</td>\n",
       "      <td>43.9</td>\n",
       "      <td>100.0</td>\n",
       "    </tr>\n",
       "  </tbody>\n",
       "</table>\n",
       "</div>"
      ],
      "text/plain": [
       "PLANO            A     B    All\n",
       "ESTADO CIVIL                   \n",
       "Casado        31.7  12.2   43.9\n",
       "Solteiro      15.9  24.4   40.2\n",
       "Outros         8.5   7.3   15.9\n",
       "All           56.1  43.9  100.0"
      ]
     },
     "execution_count": 23,
     "metadata": {},
     "output_type": "execute_result"
    }
   ],
   "source": [
    "print('Tabela Cruzada por total GERAL (em %):')\n",
    "ct1=(ct/n*100).round(decimals=1)\n",
    "ct1"
   ]
  },
  {
   "cell_type": "code",
   "execution_count": 24,
   "metadata": {
    "collapsed": false
   },
   "outputs": [
    {
     "data": {
      "text/plain": [
       "<matplotlib.text.Text at 0xa3d2a90>"
      ]
     },
     "execution_count": 24,
     "metadata": {},
     "output_type": "execute_result"
    },
    {
     "data": {
      "image/png": "[encoded data removed]",
      "text/plain": [
       "<matplotlib.figure.Figure at 0xa3f11d0>"
      ]
     },
     "metadata": {},
     "output_type": "display_data"
    }
   ],
   "source": [
    "ct1 = pd.crosstab(dados.EC,dados.PLANO,margins=True,rownames=['ESTADO CIVIL'], colnames=['PLANO'])\n",
    "ct1 = ct1.loc[['Casado','Solteiro','Outros','All']]\n",
    "ct1 = (ct1/len(dados)*100).round(decimals=0)\n",
    "ct1 = ct1.iloc[0:3,]\n",
    "plot = ct1.plot(kind='bar')\n",
    "plt.ylabel('Freq.Relativa (em%)')"
   ]
  },
  {
   "cell_type": "code",
   "execution_count": 25,
   "metadata": {
    "collapsed": true
   },
   "outputs": [],
   "source": [
    "#Função que divide cada valor da tabela cruzada pelo total da última linha (quando axis=0) ou da última coluna (quando axis=1)\n",
    "#Retorna tabela cruzada com valores sem casa decimais\n",
    "#https://www.analyticsvidhya.com/blog/2016/01/12-pandas-techniques-python-data-manipulation/\n",
    "def percConvert(tab):\n",
    "  return (tab/float(tab[-1])*100).round(decimals=0)"
   ]
  },
  {
   "cell_type": "code",
   "execution_count": 26,
   "metadata": {
    "collapsed": false
   },
   "outputs": [
    {
     "name": "stdout",
     "output_type": "stream",
     "text": [
      "Tabela Cruzada por total de COLUNAS (em %):\n"
     ]
    },
    {
     "data": {
      "text/html": [
       "<div>\n",
       "<table border=\"1\" class=\"dataframe\">\n",
       "  <thead>\n",
       "    <tr style=\"text-align: right;\">\n",
       "      <th>PLANO</th>\n",
       "      <th>A</th>\n",
       "      <th>B</th>\n",
       "      <th>All</th>\n",
       "    </tr>\n",
       "    <tr>\n",
       "      <th>ESTADO CIVIL</th>\n",
       "      <th></th>\n",
       "      <th></th>\n",
       "      <th></th>\n",
       "    </tr>\n",
       "  </thead>\n",
       "  <tbody>\n",
       "    <tr>\n",
       "      <th>Casado</th>\n",
       "      <td>57.0</td>\n",
       "      <td>28.0</td>\n",
       "      <td>44.0</td>\n",
       "    </tr>\n",
       "    <tr>\n",
       "      <th>Solteiro</th>\n",
       "      <td>28.0</td>\n",
       "      <td>56.0</td>\n",
       "      <td>40.0</td>\n",
       "    </tr>\n",
       "    <tr>\n",
       "      <th>Outros</th>\n",
       "      <td>15.0</td>\n",
       "      <td>17.0</td>\n",
       "      <td>16.0</td>\n",
       "    </tr>\n",
       "    <tr>\n",
       "      <th>All</th>\n",
       "      <td>100.0</td>\n",
       "      <td>100.0</td>\n",
       "      <td>100.0</td>\n",
       "    </tr>\n",
       "  </tbody>\n",
       "</table>\n",
       "</div>"
      ],
      "text/plain": [
       "PLANO             A      B    All\n",
       "ESTADO CIVIL                     \n",
       "Casado         57.0   28.0   44.0\n",
       "Solteiro       28.0   56.0   40.0\n",
       "Outros         15.0   17.0   16.0\n",
       "All           100.0  100.0  100.0"
      ]
     },
     "execution_count": 26,
     "metadata": {},
     "output_type": "execute_result"
    }
   ],
   "source": [
    "print('Tabela Cruzada por total de COLUNAS (em %):')\n",
    "ct2=pd.crosstab(dados.EC,dados.PLANO,margins=True,rownames=['ESTADO CIVIL'], colnames=['PLANO']).apply(percConvert, axis=0)\n",
    "ct2=ct2.loc[['Casado','Solteiro','Outros','All']]\n",
    "ct2"
   ]
  },
  {
   "cell_type": "code",
   "execution_count": 27,
   "metadata": {
    "collapsed": false
   },
   "outputs": [
    {
     "data": {
      "text/plain": [
       "<matplotlib.legend.Legend at 0xa3d20f0>"
      ]
     },
     "execution_count": 27,
     "metadata": {},
     "output_type": "execute_result"
    },
    {
     "data": {
      "image/png": "[encoded data removed]",
      "text/plain": [
       "<matplotlib.figure.Figure at 0xa3d2710>"
      ]
     },
     "metadata": {},
     "output_type": "display_data"
    }
   ],
   "source": [
    "ct2 = pd.crosstab(dados.EC,dados.PLANO,margins=True,rownames=['ESTADO CIVIL'], colnames=['PLANO']).apply(percConvert, axis=0)\n",
    "ct2 = ct2.loc[['Casado','Solteiro','Outros','All']]\n",
    "ct2 = ct2.iloc[0:3,:]\n",
    "plot = ct2.T.plot(kind='bar', stacked=True,title='Estado Civil em cada Plano')\n",
    "plot.set_ylim([0, 100])\n",
    "plt.ylabel('Freq.Relativa (em%)')\n",
    "\n",
    "#Para legenda ficar fora do gráfico\n",
    "ax = plt.subplot(111)\n",
    "box = ax.get_position()\n",
    "ax.set_position([box.x0, box.y0, box.width * 0.8, box.height])\n",
    "ax.legend(loc='center left', bbox_to_anchor=(1, 0.5))"
   ]
  },
  {
   "cell_type": "code",
   "execution_count": 28,
   "metadata": {
    "collapsed": false
   },
   "outputs": [
    {
     "name": "stdout",
     "output_type": "stream",
     "text": [
      "Tabela Cruzada por total de LINHAS (em %):\n"
     ]
    },
    {
     "data": {
      "text/html": [
       "<div>\n",
       "<table border=\"1\" class=\"dataframe\">\n",
       "  <thead>\n",
       "    <tr style=\"text-align: right;\">\n",
       "      <th>PLANO</th>\n",
       "      <th>A</th>\n",
       "      <th>B</th>\n",
       "      <th>All</th>\n",
       "    </tr>\n",
       "    <tr>\n",
       "      <th>ESTADO CIVIL</th>\n",
       "      <th></th>\n",
       "      <th></th>\n",
       "      <th></th>\n",
       "    </tr>\n",
       "  </thead>\n",
       "  <tbody>\n",
       "    <tr>\n",
       "      <th>Casado</th>\n",
       "      <td>72.0</td>\n",
       "      <td>28.0</td>\n",
       "      <td>100.0</td>\n",
       "    </tr>\n",
       "    <tr>\n",
       "      <th>Solteiro</th>\n",
       "      <td>39.0</td>\n",
       "      <td>61.0</td>\n",
       "      <td>100.0</td>\n",
       "    </tr>\n",
       "    <tr>\n",
       "      <th>Outros</th>\n",
       "      <td>54.0</td>\n",
       "      <td>46.0</td>\n",
       "      <td>100.0</td>\n",
       "    </tr>\n",
       "    <tr>\n",
       "      <th>All</th>\n",
       "      <td>56.0</td>\n",
       "      <td>44.0</td>\n",
       "      <td>100.0</td>\n",
       "    </tr>\n",
       "  </tbody>\n",
       "</table>\n",
       "</div>"
      ],
      "text/plain": [
       "PLANO            A     B    All\n",
       "ESTADO CIVIL                   \n",
       "Casado        72.0  28.0  100.0\n",
       "Solteiro      39.0  61.0  100.0\n",
       "Outros        54.0  46.0  100.0\n",
       "All           56.0  44.0  100.0"
      ]
     },
     "execution_count": 28,
     "metadata": {},
     "output_type": "execute_result"
    }
   ],
   "source": [
    "print('Tabela Cruzada por total de LINHAS (em %):')\n",
    "ct3=pd.crosstab(dados.EC,dados.PLANO,margins=True,rownames=['ESTADO CIVIL'], colnames=['PLANO']).apply(percConvert, axis=1)\n",
    "ct3=ct3.loc[['Casado','Solteiro','Outros','All']]\n",
    "ct3"
   ]
  },
  {
   "cell_type": "code",
   "execution_count": 29,
   "metadata": {
    "collapsed": false
   },
   "outputs": [
    {
     "data": {
      "text/plain": [
       "<matplotlib.legend.Legend at 0xa3d2588>"
      ]
     },
     "execution_count": 29,
     "metadata": {},
     "output_type": "execute_result"
    },
    {
     "data": {
      "image/png": "[encoded data removed]",
      "text/plain": [
       "<matplotlib.figure.Figure at 0x63c4be0>"
      ]
     },
     "metadata": {},
     "output_type": "display_data"
    }
   ],
   "source": [
    "ct3 = pd.crosstab(dados.EC,dados.PLANO,margins=True,rownames=['ESTADO CIVIL'], colnames=['PLANO']).apply(percConvert, axis=1)\n",
    "ct3 = ct3.loc[['Casado','Solteiro','Outros','All']]\n",
    "ct3 = ct3.iloc[:,0:2]\n",
    "plot = ct3.plot(kind='bar', stacked=True,title='Plano em cada Estado Civil')\n",
    "plt.ylabel('Freq.Relativa (em%)')\n",
    "\n",
    "#Para legenda ficar fora do gráfico\n",
    "ax = plt.subplot(111)\n",
    "box = ax.get_position()\n",
    "ax.set_position([box.x0, box.y0, box.width * 0.8, box.height])\n",
    "ax.legend(loc='center left', bbox_to_anchor=(1, 0.5))"
   ]
  },
  {
   "cell_type": "markdown",
   "metadata": {},
   "source": [
    "# <font color='red'>É coerente fazer os gráficos apresentados a seguir?</font>"
   ]
  },
  {
   "cell_type": "markdown",
   "metadata": {},
   "source": [
    "### A questão é: Consegue interpretar corretamente em qual Estado Civil há maior ou menor concentração de cada Plano?? "
   ]
  },
  {
   "cell_type": "code",
   "execution_count": 80,
   "metadata": {
    "collapsed": false
   },
   "outputs": [
    {
     "data": {
      "text/plain": [
       "<matplotlib.text.Text at 0xbf0fef0>"
      ]
     },
     "execution_count": 80,
     "metadata": {},
     "output_type": "execute_result"
    },
    {
     "data": {
      "image/png": "[encoded data removed]",
      "text/plain": [
       "<matplotlib.figure.Figure at 0xc1a2d68>"
      ]
     },
     "metadata": {},
     "output_type": "display_data"
    }
   ],
   "source": [
    "ct8 = ct1.iloc[:,0:2]\n",
    "plot = ct8.plot(kind='bar',stacked=True)\n",
    "plt.ylabel('Freq. Absoluta')"
   ]
  },
  {
   "cell_type": "markdown",
   "metadata": {},
   "source": [
    "### A questão é: Consegue interpretar corretamente em qual Plano há maior ou menor concentração de cada Estado Civil?? "
   ]
  },
  {
   "cell_type": "code",
   "execution_count": 31,
   "metadata": {
    "collapsed": false
   },
   "outputs": [
    {
     "data": {
      "text/plain": [
       "<matplotlib.text.Text at 0xa4f28d0>"
      ]
     },
     "execution_count": 31,
     "metadata": {},
     "output_type": "execute_result"
    },
    {
     "data": {
      "image/png": "[encoded data removed]",
      "text/plain": [
       "<matplotlib.figure.Figure at 0xa5b74a8>"
      ]
     },
     "metadata": {},
     "output_type": "display_data"
    }
   ],
   "source": [
    "plot = ct1.plot(kind='bar',stacked=True)\n",
    "plt.ylabel('Freq.Relativa (em%)')"
   ]
  },
  {
   "cell_type": "markdown",
   "metadata": {},
   "source": [
    "## *Análise de Satisfação versus Plano*"
   ]
  },
  {
   "cell_type": "markdown",
   "metadata": {},
   "source": [
    "Agora estude o grau de satisfação dos clientes segundo o plano adquiridos por eles!!\n",
    "Faça interpretações dos resultados!!"
   ]
  },
  {
   "cell_type": "code",
   "execution_count": 61,
   "metadata": {
    "collapsed": false
   },
   "outputs": [
    {
     "name": "stdout",
     "output_type": "stream",
     "text": [
      "Tabela Cruzada por total GERAL:\n"
     ]
    },
    {
     "data": {
      "text/html": [
       "<div>\n",
       "<table border=\"1\" class=\"dataframe\">\n",
       "  <thead>\n",
       "    <tr style=\"text-align: right;\">\n",
       "      <th>PLANO</th>\n",
       "      <th>A</th>\n",
       "      <th>B</th>\n",
       "      <th>All</th>\n",
       "    </tr>\n",
       "    <tr>\n",
       "      <th>SATISFAÇÃO</th>\n",
       "      <th></th>\n",
       "      <th></th>\n",
       "      <th></th>\n",
       "    </tr>\n",
       "  </thead>\n",
       "  <tbody>\n",
       "    <tr>\n",
       "      <th>Muito Satisfeito</th>\n",
       "      <td>12</td>\n",
       "      <td>0</td>\n",
       "      <td>12</td>\n",
       "    </tr>\n",
       "    <tr>\n",
       "      <th>Satisfeito</th>\n",
       "      <td>20</td>\n",
       "      <td>7</td>\n",
       "      <td>27</td>\n",
       "    </tr>\n",
       "    <tr>\n",
       "      <th>Indiferente</th>\n",
       "      <td>7</td>\n",
       "      <td>12</td>\n",
       "      <td>19</td>\n",
       "    </tr>\n",
       "    <tr>\n",
       "      <th>Insatisfeito</th>\n",
       "      <td>5</td>\n",
       "      <td>11</td>\n",
       "      <td>16</td>\n",
       "    </tr>\n",
       "    <tr>\n",
       "      <th>Muito Insatisfeito</th>\n",
       "      <td>2</td>\n",
       "      <td>6</td>\n",
       "      <td>8</td>\n",
       "    </tr>\n",
       "  </tbody>\n",
       "</table>\n",
       "</div>"
      ],
      "text/plain": [
       "PLANO                A   B  All\n",
       "SATISFAÇÃO                     \n",
       "Muito Satisfeito    12   0   12\n",
       "Satisfeito          20   7   27\n",
       "Indiferente          7  12   19\n",
       "Insatisfeito         5  11   16\n",
       "Muito Insatisfeito   2   6    8"
      ]
     },
     "execution_count": 61,
     "metadata": {},
     "output_type": "execute_result"
    }
   ],
   "source": [
    "#Tabela cruzada Satisfação x Plano\n",
    "print('Tabela Cruzada por total GERAL:')\n",
    "ct = pd.crosstab(dados.SATISFACAO, dados.PLANO, margins = True, rownames = ['SATISFAÇÃO'], colnames = ['PLANO'])\n",
    "ct = ct.loc[['Muito Satisfeito', 'Satisfeito', 'Indiferente', 'Insatisfeito', 'Muito Insatisfeito']]\n",
    "ct"
   ]
  },
  {
   "cell_type": "code",
   "execution_count": 33,
   "metadata": {
    "collapsed": true
   },
   "outputs": [],
   "source": [
    "#Posição do total geral da tabela nomeada de ct\n",
    "n = ct.iloc[3,2]"
   ]
  },
  {
   "cell_type": "code",
   "execution_count": 34,
   "metadata": {
    "collapsed": false
   },
   "outputs": [
    {
     "name": "stdout",
     "output_type": "stream",
     "text": [
      "Tabela Cruzada por total GERAL (em %):\n"
     ]
    },
    {
     "data": {
      "text/html": [
       "<div>\n",
       "<table border=\"1\" class=\"dataframe\">\n",
       "  <thead>\n",
       "    <tr style=\"text-align: right;\">\n",
       "      <th>PLANO</th>\n",
       "      <th>A</th>\n",
       "      <th>B</th>\n",
       "      <th>All</th>\n",
       "    </tr>\n",
       "    <tr>\n",
       "      <th>ESTADO CIVIL</th>\n",
       "      <th></th>\n",
       "      <th></th>\n",
       "      <th></th>\n",
       "    </tr>\n",
       "  </thead>\n",
       "  <tbody>\n",
       "    <tr>\n",
       "      <th>Muito Satisfeito</th>\n",
       "      <td>75.0</td>\n",
       "      <td>0.0</td>\n",
       "      <td>75.0</td>\n",
       "    </tr>\n",
       "    <tr>\n",
       "      <th>Satisfeito</th>\n",
       "      <td>125.0</td>\n",
       "      <td>43.8</td>\n",
       "      <td>168.8</td>\n",
       "    </tr>\n",
       "    <tr>\n",
       "      <th>Indiferente</th>\n",
       "      <td>43.8</td>\n",
       "      <td>75.0</td>\n",
       "      <td>118.8</td>\n",
       "    </tr>\n",
       "    <tr>\n",
       "      <th>Insatisfeito</th>\n",
       "      <td>31.2</td>\n",
       "      <td>68.8</td>\n",
       "      <td>100.0</td>\n",
       "    </tr>\n",
       "    <tr>\n",
       "      <th>Muito Insatisfeito</th>\n",
       "      <td>12.5</td>\n",
       "      <td>37.5</td>\n",
       "      <td>50.0</td>\n",
       "    </tr>\n",
       "  </tbody>\n",
       "</table>\n",
       "</div>"
      ],
      "text/plain": [
       "PLANO                   A     B    All\n",
       "ESTADO CIVIL                          \n",
       "Muito Satisfeito     75.0   0.0   75.0\n",
       "Satisfeito          125.0  43.8  168.8\n",
       "Indiferente          43.8  75.0  118.8\n",
       "Insatisfeito         31.2  68.8  100.0\n",
       "Muito Insatisfeito   12.5  37.5   50.0"
      ]
     },
     "execution_count": 34,
     "metadata": {},
     "output_type": "execute_result"
    }
   ],
   "source": [
    "print('Tabela Cruzada por total GERAL (em %):')\n",
    "ct1 = (ct/n*100).round(decimals = 1)\n",
    "ct1"
   ]
  },
  {
   "cell_type": "code",
   "execution_count": 42,
   "metadata": {
    "collapsed": false
   },
   "outputs": [
    {
     "data": {
      "text/plain": [
       "<matplotlib.text.Text at 0xaa0b160>"
      ]
     },
     "execution_count": 42,
     "metadata": {},
     "output_type": "execute_result"
    },
    {
     "data": {
      "image/png": "[encoded data removed]",
      "text/plain": [
       "<matplotlib.figure.Figure at 0xa9aeac8>"
      ]
     },
     "metadata": {},
     "output_type": "display_data"
    }
   ],
   "source": [
    "ct1 = pd.crosstab(dados.SATISFACAO, dados.PLANO, margins = True, rownames = ['SATISFAÇÃO'], colnames = ['PLANO'])\n",
    "ct1 = ct1.loc[['Muito Satisfeito', 'Satisfeito', 'Indiferente', 'Insatisfeito', 'Muito Insatisfeito']]\n",
    "ct1 = (ct1/len(dados)*100).round(decimals = 0)\n",
    "ct1 = ct1.iloc[0:5,]\n",
    "plot = ct1.plot(kind = 'bar', color = ('red', 'yellow', 'purple'))\n",
    "plt.ylabel('Freq.Relativa (em%)')"
   ]
  },
  {
   "cell_type": "code",
   "execution_count": 43,
   "metadata": {
    "collapsed": true
   },
   "outputs": [],
   "source": [
    "#Função que divide cada valor da tabela cruzada pelo total da última linha (quando axis=0) ou da última coluna (quando axis=1)\n",
    "#Retorna tabela cruzada com valores sem casa decimais\n",
    "#https://www.analyticsvidhya.com/blog/2016/01/12-pandas-techniques-python-data-manipulation/\n",
    "def percConvert(tab):\n",
    "  return (tab/float(tab[-1])*100).round(decimals = 0)"
   ]
  },
  {
   "cell_type": "code",
   "execution_count": 44,
   "metadata": {
    "collapsed": false
   },
   "outputs": [
    {
     "name": "stdout",
     "output_type": "stream",
     "text": [
      "Tabela Cruzada por total de COLUNAS (em %):\n"
     ]
    },
    {
     "data": {
      "text/html": [
       "<div>\n",
       "<table border=\"1\" class=\"dataframe\">\n",
       "  <thead>\n",
       "    <tr style=\"text-align: right;\">\n",
       "      <th>PLANO</th>\n",
       "      <th>A</th>\n",
       "      <th>B</th>\n",
       "      <th>All</th>\n",
       "    </tr>\n",
       "    <tr>\n",
       "      <th>SATISFAÇÃO</th>\n",
       "      <th></th>\n",
       "      <th></th>\n",
       "      <th></th>\n",
       "    </tr>\n",
       "  </thead>\n",
       "  <tbody>\n",
       "    <tr>\n",
       "      <th>Muito Satisfeito</th>\n",
       "      <td>26.0</td>\n",
       "      <td>0.0</td>\n",
       "      <td>15.0</td>\n",
       "    </tr>\n",
       "    <tr>\n",
       "      <th>Satisfeito</th>\n",
       "      <td>43.0</td>\n",
       "      <td>19.0</td>\n",
       "      <td>33.0</td>\n",
       "    </tr>\n",
       "    <tr>\n",
       "      <th>Indiferente</th>\n",
       "      <td>15.0</td>\n",
       "      <td>33.0</td>\n",
       "      <td>23.0</td>\n",
       "    </tr>\n",
       "    <tr>\n",
       "      <th>Insatisfeito</th>\n",
       "      <td>11.0</td>\n",
       "      <td>31.0</td>\n",
       "      <td>20.0</td>\n",
       "    </tr>\n",
       "    <tr>\n",
       "      <th>Muito Insatisfeito</th>\n",
       "      <td>4.0</td>\n",
       "      <td>17.0</td>\n",
       "      <td>10.0</td>\n",
       "    </tr>\n",
       "    <tr>\n",
       "      <th>All</th>\n",
       "      <td>100.0</td>\n",
       "      <td>100.0</td>\n",
       "      <td>100.0</td>\n",
       "    </tr>\n",
       "  </tbody>\n",
       "</table>\n",
       "</div>"
      ],
      "text/plain": [
       "PLANO                   A      B    All\n",
       "SATISFAÇÃO                             \n",
       "Muito Satisfeito     26.0    0.0   15.0\n",
       "Satisfeito           43.0   19.0   33.0\n",
       "Indiferente          15.0   33.0   23.0\n",
       "Insatisfeito         11.0   31.0   20.0\n",
       "Muito Insatisfeito    4.0   17.0   10.0\n",
       "All                 100.0  100.0  100.0"
      ]
     },
     "execution_count": 44,
     "metadata": {},
     "output_type": "execute_result"
    }
   ],
   "source": [
    "print('Tabela Cruzada por total de COLUNAS (em %):')\n",
    "ct2 = pd.crosstab(dados.SATISFACAO, dados.PLANO, margins = True, rownames = ['SATISFAÇÃO'], \n",
    "                colnames = ['PLANO']).apply(percConvert, axis=0)\n",
    "ct2 = ct2.loc[['Muito Satisfeito', 'Satisfeito', 'Indiferente', 'Insatisfeito', 'Muito Insatisfeito', 'All']]\n",
    "ct2"
   ]
  },
  {
   "cell_type": "code",
   "execution_count": 47,
   "metadata": {
    "collapsed": false
   },
   "outputs": [
    {
     "data": {
      "text/plain": [
       "<matplotlib.legend.Legend at 0xa87d780>"
      ]
     },
     "execution_count": 47,
     "metadata": {},
     "output_type": "execute_result"
    },
    {
     "data": {
      "image/png": "[encoded data removed]",
      "text/plain": [
       "<matplotlib.figure.Figure at 0xbb81550>"
      ]
     },
     "metadata": {},
     "output_type": "display_data"
    }
   ],
   "source": [
    "ct2 = pd.crosstab(dados.SATISFACAO, dados.PLANO, margins = True, rownames = ['SATISFAÇÃO'], \n",
    "                  colnames=['PLANO']).apply(percConvert, axis=0)\n",
    "ct2 = ct2.loc[['Muito Satisfeito', 'Satisfeito', 'Indiferente', 'Insatisfeito', 'Muito Insatisfeito', 'All']]\n",
    "ct2 = ct2.iloc[0:6,:]\n",
    "plot = ct2.T.plot(kind = 'bar', stacked = True, title = 'Satisfação em cada Plano', color = ('red', 'yellow', 'purple',\n",
    "                                                                                            'orange', 'green', 'pink'))\n",
    "plot.set_ylim([0, 100])\n",
    "plt.ylabel('Freq.Relativa (em%)')\n",
    "\n",
    "#Para legenda ficar fora do gráfico\n",
    "ax = plt.subplot(111)\n",
    "box = ax.get_position()\n",
    "ax.set_position([box.x0, box.y0, box.width * 0.8, box.height])\n",
    "ax.legend(loc = 'center left', bbox_to_anchor = (1, 0.5))"
   ]
  },
  {
   "cell_type": "code",
   "execution_count": 49,
   "metadata": {
    "collapsed": false
   },
   "outputs": [
    {
     "name": "stdout",
     "output_type": "stream",
     "text": [
      "Tabela Cruzada por total de LINHAS (em %):\n"
     ]
    },
    {
     "data": {
      "text/html": [
       "<div>\n",
       "<table border=\"1\" class=\"dataframe\">\n",
       "  <thead>\n",
       "    <tr style=\"text-align: right;\">\n",
       "      <th>PLANO</th>\n",
       "      <th>A</th>\n",
       "      <th>B</th>\n",
       "      <th>All</th>\n",
       "    </tr>\n",
       "    <tr>\n",
       "      <th>SATISFACAO</th>\n",
       "      <th></th>\n",
       "      <th></th>\n",
       "      <th></th>\n",
       "    </tr>\n",
       "  </thead>\n",
       "  <tbody>\n",
       "    <tr>\n",
       "      <th>Muito Satisfeito</th>\n",
       "      <td>100.0</td>\n",
       "      <td>0.0</td>\n",
       "      <td>100.0</td>\n",
       "    </tr>\n",
       "    <tr>\n",
       "      <th>Satisfeito</th>\n",
       "      <td>74.0</td>\n",
       "      <td>26.0</td>\n",
       "      <td>100.0</td>\n",
       "    </tr>\n",
       "    <tr>\n",
       "      <th>Indiferente</th>\n",
       "      <td>37.0</td>\n",
       "      <td>63.0</td>\n",
       "      <td>100.0</td>\n",
       "    </tr>\n",
       "    <tr>\n",
       "      <th>Insatisfeito</th>\n",
       "      <td>31.0</td>\n",
       "      <td>69.0</td>\n",
       "      <td>100.0</td>\n",
       "    </tr>\n",
       "    <tr>\n",
       "      <th>Muito Insatisfeito</th>\n",
       "      <td>25.0</td>\n",
       "      <td>75.0</td>\n",
       "      <td>100.0</td>\n",
       "    </tr>\n",
       "    <tr>\n",
       "      <th>All</th>\n",
       "      <td>56.0</td>\n",
       "      <td>44.0</td>\n",
       "      <td>100.0</td>\n",
       "    </tr>\n",
       "  </tbody>\n",
       "</table>\n",
       "</div>"
      ],
      "text/plain": [
       "PLANO                   A     B    All\n",
       "SATISFACAO                            \n",
       "Muito Satisfeito    100.0   0.0  100.0\n",
       "Satisfeito           74.0  26.0  100.0\n",
       "Indiferente          37.0  63.0  100.0\n",
       "Insatisfeito         31.0  69.0  100.0\n",
       "Muito Insatisfeito   25.0  75.0  100.0\n",
       "All                  56.0  44.0  100.0"
      ]
     },
     "execution_count": 49,
     "metadata": {},
     "output_type": "execute_result"
    }
   ],
   "source": [
    "print('Tabela Cruzada por total de LINHAS (em %):')\n",
    "ct3 = pd.crosstab(dados.SATISFACAO, dados.PLANO, margins = True, rownames = ['SATISFACAO'], \n",
    "                  colnames=['PLANO']).apply(percConvert, axis = 1)\n",
    "ct3 = ct3.loc[['Muito Satisfeito', 'Satisfeito', 'Indiferente', 'Insatisfeito', 'Muito Insatisfeito', 'All']]\n",
    "ct3"
   ]
  },
  {
   "cell_type": "code",
   "execution_count": 52,
   "metadata": {
    "collapsed": false
   },
   "outputs": [
    {
     "data": {
      "text/plain": [
       "<matplotlib.legend.Legend at 0xbcb18d0>"
      ]
     },
     "execution_count": 52,
     "metadata": {},
     "output_type": "execute_result"
    },
    {
     "data": {
      "image/png": "[encoded data removed]",
      "text/plain": [
       "<matplotlib.figure.Figure at 0xa9f2780>"
      ]
     },
     "metadata": {},
     "output_type": "display_data"
    }
   ],
   "source": [
    "ct3 = pd.crosstab(dados.SATISFACAO, dados.PLANO, margins = True, rownames = ['SATISFAÇÃO'], \n",
    "                  colnames=['PLANO']).apply(percConvert, axis = 1)\n",
    "ct3 = ct3.loc[['Muito Satisfeito', 'Satisfeito', 'Indiferente', 'Insatisfeito', 'Muito Insatisfeito', 'All']]\n",
    "ct3 = ct3.iloc[:,0:2]\n",
    "plot = ct3.plot(kind = 'bar', stacked = True, title = 'Plano em cada Satisfação', color = ('blue', 'yellow'))\n",
    "plt.ylabel('Freq.Relativa (em%)')\n",
    "\n",
    "#Para legenda ficar fora do gráfico\n",
    "ax = plt.subplot(111)\n",
    "box = ax.get_position()\n",
    "ax.set_position([box.x0, box.y0, box.width * 0.8, box.height])\n",
    "ax.legend(loc = 'center left', bbox_to_anchor = (1, 0.5))"
   ]
  },
  {
   "cell_type": "markdown",
   "metadata": {},
   "source": [
    "___\n",
    "## Análise das três variáveis qualitativas simultaneamente"
   ]
  },
  {
   "cell_type": "markdown",
   "metadata": {},
   "source": [
    "Analise o Grau de Satisfação versus Estado Civil separademente para cada plano!\n",
    "\n",
    "Aqui será necessário usar um filtro em cada uma dessas variáveis selecionando, inicialmente, apenas os clientes com plano A.\n",
    "\n",
    "Para isso, lembre-se que você pode usar o seguinte código:\n",
    "\n",
    "* `dados.SATISFACAO[dados.PLANO=='A']`\n",
    "* `dados.EC[dados.PLANO=='A']`\n",
    "\n",
    "Faça interpretações dos gráficos/tabelas que serão feitos a seguir por você!!"
   ]
  },
  {
   "cell_type": "markdown",
   "metadata": {},
   "source": [
    "## *Tabela cruzada de Satisfação versus Estado Civil - PLANO A*"
   ]
  },
  {
   "cell_type": "code",
   "execution_count": 59,
   "metadata": {
    "collapsed": true
   },
   "outputs": [],
   "source": [
    "satA = dados.SATISFACAO[dados.PLANO == 'A']\n",
    "ecA = dados.EC[dados.PLANO == 'A']"
   ]
  },
  {
   "cell_type": "code",
   "execution_count": 60,
   "metadata": {
    "collapsed": false
   },
   "outputs": [
    {
     "name": "stdout",
     "output_type": "stream",
     "text": [
      "Tabela Cruzada por total GERAL:\n"
     ]
    },
    {
     "data": {
      "text/html": [
       "<div>\n",
       "<table border=\"1\" class=\"dataframe\">\n",
       "  <thead>\n",
       "    <tr style=\"text-align: right;\">\n",
       "      <th>ESTADO CIVIL</th>\n",
       "      <th>Casado</th>\n",
       "      <th>Outros</th>\n",
       "      <th>Solteiro</th>\n",
       "      <th>All</th>\n",
       "    </tr>\n",
       "    <tr>\n",
       "      <th>SATISFAÇÃO</th>\n",
       "      <th></th>\n",
       "      <th></th>\n",
       "      <th></th>\n",
       "      <th></th>\n",
       "    </tr>\n",
       "  </thead>\n",
       "  <tbody>\n",
       "    <tr>\n",
       "      <th>Muito Satisfeito</th>\n",
       "      <td>5</td>\n",
       "      <td>1</td>\n",
       "      <td>6</td>\n",
       "      <td>12</td>\n",
       "    </tr>\n",
       "    <tr>\n",
       "      <th>Satisfeito</th>\n",
       "      <td>14</td>\n",
       "      <td>2</td>\n",
       "      <td>4</td>\n",
       "      <td>20</td>\n",
       "    </tr>\n",
       "    <tr>\n",
       "      <th>Indiferente</th>\n",
       "      <td>3</td>\n",
       "      <td>1</td>\n",
       "      <td>3</td>\n",
       "      <td>7</td>\n",
       "    </tr>\n",
       "    <tr>\n",
       "      <th>Insatisfeito</th>\n",
       "      <td>2</td>\n",
       "      <td>3</td>\n",
       "      <td>0</td>\n",
       "      <td>5</td>\n",
       "    </tr>\n",
       "    <tr>\n",
       "      <th>Muito Insatisfeito</th>\n",
       "      <td>2</td>\n",
       "      <td>0</td>\n",
       "      <td>0</td>\n",
       "      <td>2</td>\n",
       "    </tr>\n",
       "  </tbody>\n",
       "</table>\n",
       "</div>"
      ],
      "text/plain": [
       "ESTADO CIVIL        Casado  Outros  Solteiro  All\n",
       "SATISFAÇÃO                                       \n",
       "Muito Satisfeito         5       1         6   12\n",
       "Satisfeito              14       2         4   20\n",
       "Indiferente              3       1         3    7\n",
       "Insatisfeito             2       3         0    5\n",
       "Muito Insatisfeito       2       0         0    2"
      ]
     },
     "execution_count": 60,
     "metadata": {},
     "output_type": "execute_result"
    }
   ],
   "source": [
    "#Tabela cruzada Satisfação x Estado Civil\n",
    "print('Tabela Cruzada por total GERAL:')\n",
    "ct = pd.crosstab(satA, ecA, margins = True, rownames = ['SATISFAÇÃO'], colnames = ['ESTADO CIVIL'])\n",
    "ct = ct.loc[['Muito Satisfeito', 'Satisfeito', 'Indiferente', 'Insatisfeito', 'Muito Insatisfeito']]\n",
    "ct"
   ]
  },
  {
   "cell_type": "code",
   "execution_count": 72,
   "metadata": {
    "collapsed": false
   },
   "outputs": [],
   "source": [
    "#Posição do total geral da tabela nomeada de ct\n",
    "n = ct.iloc[3,2]"
   ]
  },
  {
   "cell_type": "code",
   "execution_count": 73,
   "metadata": {
    "collapsed": false
   },
   "outputs": [
    {
     "name": "stdout",
     "output_type": "stream",
     "text": [
      "Tabela Cruzada por total GERAL (em %):\n"
     ]
    },
    {
     "data": {
      "text/html": [
       "<div>\n",
       "<table border=\"1\" class=\"dataframe\">\n",
       "  <thead>\n",
       "    <tr style=\"text-align: right;\">\n",
       "      <th>PLANO</th>\n",
       "      <th>A</th>\n",
       "      <th>B</th>\n",
       "      <th>All</th>\n",
       "    </tr>\n",
       "    <tr>\n",
       "      <th>SATISFAÇÃO</th>\n",
       "      <th></th>\n",
       "      <th></th>\n",
       "      <th></th>\n",
       "    </tr>\n",
       "  </thead>\n",
       "  <tbody>\n",
       "    <tr>\n",
       "      <th>Muito Satisfeito</th>\n",
       "      <td>75.0</td>\n",
       "      <td>0.0</td>\n",
       "      <td>75.0</td>\n",
       "    </tr>\n",
       "    <tr>\n",
       "      <th>Satisfeito</th>\n",
       "      <td>125.0</td>\n",
       "      <td>43.8</td>\n",
       "      <td>168.8</td>\n",
       "    </tr>\n",
       "    <tr>\n",
       "      <th>Indiferente</th>\n",
       "      <td>43.8</td>\n",
       "      <td>75.0</td>\n",
       "      <td>118.8</td>\n",
       "    </tr>\n",
       "    <tr>\n",
       "      <th>Insatisfeito</th>\n",
       "      <td>31.2</td>\n",
       "      <td>68.8</td>\n",
       "      <td>100.0</td>\n",
       "    </tr>\n",
       "    <tr>\n",
       "      <th>Muito Insatisfeito</th>\n",
       "      <td>12.5</td>\n",
       "      <td>37.5</td>\n",
       "      <td>50.0</td>\n",
       "    </tr>\n",
       "  </tbody>\n",
       "</table>\n",
       "</div>"
      ],
      "text/plain": [
       "PLANO                   A     B    All\n",
       "SATISFAÇÃO                            \n",
       "Muito Satisfeito     75.0   0.0   75.0\n",
       "Satisfeito          125.0  43.8  168.8\n",
       "Indiferente          43.8  75.0  118.8\n",
       "Insatisfeito         31.2  68.8  100.0\n",
       "Muito Insatisfeito   12.5  37.5   50.0"
      ]
     },
     "execution_count": 73,
     "metadata": {},
     "output_type": "execute_result"
    }
   ],
   "source": [
    "print('Tabela Cruzada por total GERAL (em %):')\n",
    "ct1 = (ct/n*100).round(decimals = 1)\n",
    "ct1"
   ]
  },
  {
   "cell_type": "code",
   "execution_count": 88,
   "metadata": {
    "collapsed": false
   },
   "outputs": [
    {
     "data": {
      "text/plain": [
       "<matplotlib.text.Text at 0xd50cba8>"
      ]
     },
     "execution_count": 88,
     "metadata": {},
     "output_type": "execute_result"
    },
    {
     "data": {
      "image/png": "[encoded data removed]",
      "text/plain": [
       "<matplotlib.figure.Figure at 0xc23b588>"
      ]
     },
     "metadata": {},
     "output_type": "display_data"
    }
   ],
   "source": [
    "ct1 = pd.crosstab(satA, ecA, margins = True, rownames = ['SATISFAÇÃO'], colnames = ['ESTADO CIVIL'])\n",
    "ct1 = ct1.loc[['Muito Satisfeito', 'Satisfeito', 'Indiferente', 'Insatisfeito', 'Muito Insatisfeito']]\n",
    "ct1 = (ct1/len(dados)*100).round(decimals = 0)\n",
    "ct1 = ct1.iloc[0:5,]\n",
    "plot = ct1.plot(kind = 'bar', color = ('grey', 'orange', 'blue', 'red'))\n",
    "plt.ylabel('Freq.Relativa (em%)')"
   ]
  },
  {
   "cell_type": "code",
   "execution_count": 81,
   "metadata": {
    "collapsed": true
   },
   "outputs": [],
   "source": [
    "#Função que divide cada valor da tabela cruzada pelo total da última linha (quando axis=0) ou da última coluna (quando axis=1)\n",
    "#Retorna tabela cruzada com valores sem casa decimais\n",
    "#https://www.analyticsvidhya.com/blog/2016/01/12-pandas-techniques-python-data-manipulation/\n",
    "def percConvert(tab):\n",
    "  return (tab/float(tab[-1])*100).round(decimals = 0)"
   ]
  },
  {
   "cell_type": "code",
   "execution_count": 89,
   "metadata": {
    "collapsed": false
   },
   "outputs": [
    {
     "name": "stdout",
     "output_type": "stream",
     "text": [
      "Tabela Cruzada por total de COLUNAS (em %):\n"
     ]
    },
    {
     "data": {
      "text/html": [
       "<div>\n",
       "<table border=\"1\" class=\"dataframe\">\n",
       "  <thead>\n",
       "    <tr style=\"text-align: right;\">\n",
       "      <th>ESTADO CIVIL</th>\n",
       "      <th>Casado</th>\n",
       "      <th>Outros</th>\n",
       "      <th>Solteiro</th>\n",
       "      <th>All</th>\n",
       "    </tr>\n",
       "    <tr>\n",
       "      <th>SATISFAÇÃO</th>\n",
       "      <th></th>\n",
       "      <th></th>\n",
       "      <th></th>\n",
       "      <th></th>\n",
       "    </tr>\n",
       "  </thead>\n",
       "  <tbody>\n",
       "    <tr>\n",
       "      <th>Muito Satisfeito</th>\n",
       "      <td>19.0</td>\n",
       "      <td>14.0</td>\n",
       "      <td>46.0</td>\n",
       "      <td>26.0</td>\n",
       "    </tr>\n",
       "    <tr>\n",
       "      <th>Satisfeito</th>\n",
       "      <td>54.0</td>\n",
       "      <td>29.0</td>\n",
       "      <td>31.0</td>\n",
       "      <td>43.0</td>\n",
       "    </tr>\n",
       "    <tr>\n",
       "      <th>Indiferente</th>\n",
       "      <td>12.0</td>\n",
       "      <td>14.0</td>\n",
       "      <td>23.0</td>\n",
       "      <td>15.0</td>\n",
       "    </tr>\n",
       "    <tr>\n",
       "      <th>Insatisfeito</th>\n",
       "      <td>8.0</td>\n",
       "      <td>43.0</td>\n",
       "      <td>0.0</td>\n",
       "      <td>11.0</td>\n",
       "    </tr>\n",
       "    <tr>\n",
       "      <th>Muito Insatisfeito</th>\n",
       "      <td>8.0</td>\n",
       "      <td>0.0</td>\n",
       "      <td>0.0</td>\n",
       "      <td>4.0</td>\n",
       "    </tr>\n",
       "    <tr>\n",
       "      <th>All</th>\n",
       "      <td>100.0</td>\n",
       "      <td>100.0</td>\n",
       "      <td>100.0</td>\n",
       "      <td>100.0</td>\n",
       "    </tr>\n",
       "  </tbody>\n",
       "</table>\n",
       "</div>"
      ],
      "text/plain": [
       "ESTADO CIVIL        Casado  Outros  Solteiro    All\n",
       "SATISFAÇÃO                                         \n",
       "Muito Satisfeito      19.0    14.0      46.0   26.0\n",
       "Satisfeito            54.0    29.0      31.0   43.0\n",
       "Indiferente           12.0    14.0      23.0   15.0\n",
       "Insatisfeito           8.0    43.0       0.0   11.0\n",
       "Muito Insatisfeito     8.0     0.0       0.0    4.0\n",
       "All                  100.0   100.0     100.0  100.0"
      ]
     },
     "execution_count": 89,
     "metadata": {},
     "output_type": "execute_result"
    }
   ],
   "source": [
    "print('Tabela Cruzada por total de COLUNAS (em %):')\n",
    "ct2 = pd.crosstab(satA, ecA, margins = True, rownames = ['SATISFAÇÃO'], \n",
    "                colnames = ['ESTADO CIVIL']).apply(percConvert, axis=0)\n",
    "ct2 = ct2.loc[['Muito Satisfeito', 'Satisfeito', 'Indiferente', 'Insatisfeito', 'Muito Insatisfeito', 'All']]\n",
    "ct2"
   ]
  },
  {
   "cell_type": "code",
   "execution_count": 90,
   "metadata": {
    "collapsed": false
   },
   "outputs": [
    {
     "data": {
      "text/plain": [
       "<matplotlib.legend.Legend at 0xd3d0198>"
      ]
     },
     "execution_count": 90,
     "metadata": {},
     "output_type": "execute_result"
    },
    {
     "data": {
      "image/png": "[encoded data removed]",
      "text/plain": [
       "<matplotlib.figure.Figure at 0xd6079b0>"
      ]
     },
     "metadata": {},
     "output_type": "display_data"
    }
   ],
   "source": [
    "ct2 = pd.crosstab(satA, ecA, margins = True, rownames = ['SATISFAÇÃO'], \n",
    "                  colnames = ['ESTADO CIVIL']).apply(percConvert, axis=0)\n",
    "ct2 = ct2.loc[['Muito Satisfeito', 'Satisfeito', 'Indiferente', 'Insatisfeito', 'Muito Insatisfeito', 'All']]\n",
    "ct2 = ct2.iloc[0:6,:]\n",
    "plot = ct2.T.plot(kind = 'bar', stacked = True, title = 'Satisfação em cada Estado Civil', color = ('purple', 'green', 'pink',\n",
    "                                                                                            'red', 'yellow', 'blue'))\n",
    "plot.set_ylim([0, 100])\n",
    "plt.ylabel('Freq.Relativa (em%)')\n",
    "\n",
    "#Para legenda ficar fora do gráfico\n",
    "ax = plt.subplot(111)\n",
    "box = ax.get_position()\n",
    "ax.set_position([box.x0, box.y0, box.width * 0.8, box.height])\n",
    "ax.legend(loc = 'center left', bbox_to_anchor = (1, 0.5))"
   ]
  },
  {
   "cell_type": "code",
   "execution_count": 91,
   "metadata": {
    "collapsed": false
   },
   "outputs": [
    {
     "name": "stdout",
     "output_type": "stream",
     "text": [
      "Tabela Cruzada por total de LINHAS (em %):\n"
     ]
    },
    {
     "data": {
      "text/html": [
       "<div>\n",
       "<table border=\"1\" class=\"dataframe\">\n",
       "  <thead>\n",
       "    <tr style=\"text-align: right;\">\n",
       "      <th>ESTADO CIVIL</th>\n",
       "      <th>Casado</th>\n",
       "      <th>Outros</th>\n",
       "      <th>Solteiro</th>\n",
       "      <th>All</th>\n",
       "    </tr>\n",
       "    <tr>\n",
       "      <th>SATISFACAO</th>\n",
       "      <th></th>\n",
       "      <th></th>\n",
       "      <th></th>\n",
       "      <th></th>\n",
       "    </tr>\n",
       "  </thead>\n",
       "  <tbody>\n",
       "    <tr>\n",
       "      <th>Muito Satisfeito</th>\n",
       "      <td>42.0</td>\n",
       "      <td>8.0</td>\n",
       "      <td>50.0</td>\n",
       "      <td>100.0</td>\n",
       "    </tr>\n",
       "    <tr>\n",
       "      <th>Satisfeito</th>\n",
       "      <td>70.0</td>\n",
       "      <td>10.0</td>\n",
       "      <td>20.0</td>\n",
       "      <td>100.0</td>\n",
       "    </tr>\n",
       "    <tr>\n",
       "      <th>Indiferente</th>\n",
       "      <td>43.0</td>\n",
       "      <td>14.0</td>\n",
       "      <td>43.0</td>\n",
       "      <td>100.0</td>\n",
       "    </tr>\n",
       "    <tr>\n",
       "      <th>Insatisfeito</th>\n",
       "      <td>40.0</td>\n",
       "      <td>60.0</td>\n",
       "      <td>0.0</td>\n",
       "      <td>100.0</td>\n",
       "    </tr>\n",
       "    <tr>\n",
       "      <th>Muito Insatisfeito</th>\n",
       "      <td>100.0</td>\n",
       "      <td>0.0</td>\n",
       "      <td>0.0</td>\n",
       "      <td>100.0</td>\n",
       "    </tr>\n",
       "    <tr>\n",
       "      <th>All</th>\n",
       "      <td>57.0</td>\n",
       "      <td>15.0</td>\n",
       "      <td>28.0</td>\n",
       "      <td>100.0</td>\n",
       "    </tr>\n",
       "  </tbody>\n",
       "</table>\n",
       "</div>"
      ],
      "text/plain": [
       "ESTADO CIVIL        Casado  Outros  Solteiro    All\n",
       "SATISFACAO                                         \n",
       "Muito Satisfeito      42.0     8.0      50.0  100.0\n",
       "Satisfeito            70.0    10.0      20.0  100.0\n",
       "Indiferente           43.0    14.0      43.0  100.0\n",
       "Insatisfeito          40.0    60.0       0.0  100.0\n",
       "Muito Insatisfeito   100.0     0.0       0.0  100.0\n",
       "All                   57.0    15.0      28.0  100.0"
      ]
     },
     "execution_count": 91,
     "metadata": {},
     "output_type": "execute_result"
    }
   ],
   "source": [
    "print('Tabela Cruzada por total de LINHAS (em %):')\n",
    "ct3 = pd.crosstab(satA, ecA, margins = True, rownames = ['SATISFACAO'], \n",
    "                  colnames=['ESTADO CIVIL']).apply(percConvert, axis = 1)\n",
    "ct3 = ct3.loc[['Muito Satisfeito', 'Satisfeito', 'Indiferente', 'Insatisfeito', 'Muito Insatisfeito', 'All']]\n",
    "ct3"
   ]
  },
  {
   "cell_type": "code",
   "execution_count": 92,
   "metadata": {
    "collapsed": false
   },
   "outputs": [
    {
     "data": {
      "text/plain": [
       "<matplotlib.legend.Legend at 0xd727be0>"
      ]
     },
     "execution_count": 92,
     "metadata": {},
     "output_type": "execute_result"
    },
    {
     "data": {
      "image/png": "[encoded data removed]",
      "text/plain": [
       "<matplotlib.figure.Figure at 0xd5ed438>"
      ]
     },
     "metadata": {},
     "output_type": "display_data"
    }
   ],
   "source": [
    "ct3 = pd.crosstab(satA, ecA, margins = True, rownames = ['SATISFAÇÃO'], \n",
    "                  colnames=['ESTADO CIVIL']).apply(percConvert, axis = 1)\n",
    "ct3 = ct3.loc[['Muito Satisfeito', 'Satisfeito', 'Indiferente', 'Insatisfeito', 'Muito Insatisfeito', 'All']]\n",
    "ct3 = ct3.iloc[:,0:3]\n",
    "plot = ct3.plot(kind = 'bar', stacked = True, title = 'Estado Civil em cada Satisfação', color = ('blue', 'yellow', 'green'))\n",
    "plt.ylabel('Freq.Relativa (em%)')\n",
    "\n",
    "#Para legenda ficar fora do gráfico\n",
    "ax = plt.subplot(111)\n",
    "box = ax.get_position()\n",
    "ax.set_position([box.x0, box.y0, box.width * 0.8, box.height])\n",
    "ax.legend(loc = 'center left', bbox_to_anchor = (1, 0.5))"
   ]
  },
  {
   "cell_type": "markdown",
   "metadata": {},
   "source": [
    "## *Tabela cruzada de Satisfação versus Estado Civil - PLANO B*"
   ]
  },
  {
   "cell_type": "code",
   "execution_count": 56,
   "metadata": {
    "collapsed": true
   },
   "outputs": [],
   "source": [
    "satB = dados.SATISFACAO[dados.PLANO == 'B']\n",
    "ecB = dados.EC[dados.PLANO == 'B']"
   ]
  },
  {
   "cell_type": "code",
   "execution_count": 93,
   "metadata": {
    "collapsed": false
   },
   "outputs": [
    {
     "name": "stdout",
     "output_type": "stream",
     "text": [
      "Tabela Cruzada por total GERAL:\n"
     ]
    },
    {
     "data": {
      "text/html": [
       "<div>\n",
       "<table border=\"1\" class=\"dataframe\">\n",
       "  <thead>\n",
       "    <tr style=\"text-align: right;\">\n",
       "      <th>ESTADO CIVIL</th>\n",
       "      <th>Casado</th>\n",
       "      <th>Outros</th>\n",
       "      <th>Solteiro</th>\n",
       "      <th>All</th>\n",
       "    </tr>\n",
       "    <tr>\n",
       "      <th>SATISFAÇÃO</th>\n",
       "      <th></th>\n",
       "      <th></th>\n",
       "      <th></th>\n",
       "      <th></th>\n",
       "    </tr>\n",
       "  </thead>\n",
       "  <tbody>\n",
       "    <tr>\n",
       "      <th>Muito Satisfeito</th>\n",
       "      <td>0</td>\n",
       "      <td>0</td>\n",
       "      <td>0</td>\n",
       "      <td>0</td>\n",
       "    </tr>\n",
       "    <tr>\n",
       "      <th>Satisfeito</th>\n",
       "      <td>4</td>\n",
       "      <td>0</td>\n",
       "      <td>3</td>\n",
       "      <td>7</td>\n",
       "    </tr>\n",
       "    <tr>\n",
       "      <th>Indiferente</th>\n",
       "      <td>2</td>\n",
       "      <td>1</td>\n",
       "      <td>9</td>\n",
       "      <td>12</td>\n",
       "    </tr>\n",
       "    <tr>\n",
       "      <th>Insatisfeito</th>\n",
       "      <td>2</td>\n",
       "      <td>4</td>\n",
       "      <td>5</td>\n",
       "      <td>11</td>\n",
       "    </tr>\n",
       "    <tr>\n",
       "      <th>Muito Insatisfeito</th>\n",
       "      <td>2</td>\n",
       "      <td>1</td>\n",
       "      <td>3</td>\n",
       "      <td>6</td>\n",
       "    </tr>\n",
       "  </tbody>\n",
       "</table>\n",
       "</div>"
      ],
      "text/plain": [
       "ESTADO CIVIL        Casado  Outros  Solteiro  All\n",
       "SATISFAÇÃO                                       \n",
       "Muito Satisfeito         0       0         0    0\n",
       "Satisfeito               4       0         3    7\n",
       "Indiferente              2       1         9   12\n",
       "Insatisfeito             2       4         5   11\n",
       "Muito Insatisfeito       2       1         3    6"
      ]
     },
     "execution_count": 93,
     "metadata": {},
     "output_type": "execute_result"
    }
   ],
   "source": [
    "#Tabela cruzada Satisfação x Estado Civil\n",
    "print('Tabela Cruzada por total GERAL:')\n",
    "ct = pd.crosstab(satB, ecB, margins = True, rownames = ['SATISFAÇÃO'], colnames = ['ESTADO CIVIL'])\n",
    "ct = ct.loc[['Muito Satisfeito', 'Satisfeito', 'Indiferente', 'Insatisfeito', 'Muito Insatisfeito']]\n",
    "ct"
   ]
  },
  {
   "cell_type": "code",
   "execution_count": 94,
   "metadata": {
    "collapsed": true
   },
   "outputs": [],
   "source": [
    "#Posição do total geral da tabela nomeada de ct\n",
    "n = ct.iloc[3,2]"
   ]
  },
  {
   "cell_type": "code",
   "execution_count": 95,
   "metadata": {
    "collapsed": false
   },
   "outputs": [
    {
     "name": "stdout",
     "output_type": "stream",
     "text": [
      "Tabela Cruzada por total GERAL (em %):\n"
     ]
    },
    {
     "data": {
      "text/html": [
       "<div>\n",
       "<table border=\"1\" class=\"dataframe\">\n",
       "  <thead>\n",
       "    <tr style=\"text-align: right;\">\n",
       "      <th>ESTADO CIVIL</th>\n",
       "      <th>Casado</th>\n",
       "      <th>Outros</th>\n",
       "      <th>Solteiro</th>\n",
       "      <th>All</th>\n",
       "    </tr>\n",
       "    <tr>\n",
       "      <th>SATISFAÇÃO</th>\n",
       "      <th></th>\n",
       "      <th></th>\n",
       "      <th></th>\n",
       "      <th></th>\n",
       "    </tr>\n",
       "  </thead>\n",
       "  <tbody>\n",
       "    <tr>\n",
       "      <th>Muito Satisfeito</th>\n",
       "      <td>0.0</td>\n",
       "      <td>0.0</td>\n",
       "      <td>0.0</td>\n",
       "      <td>0.0</td>\n",
       "    </tr>\n",
       "    <tr>\n",
       "      <th>Satisfeito</th>\n",
       "      <td>80.0</td>\n",
       "      <td>0.0</td>\n",
       "      <td>60.0</td>\n",
       "      <td>140.0</td>\n",
       "    </tr>\n",
       "    <tr>\n",
       "      <th>Indiferente</th>\n",
       "      <td>40.0</td>\n",
       "      <td>20.0</td>\n",
       "      <td>180.0</td>\n",
       "      <td>240.0</td>\n",
       "    </tr>\n",
       "    <tr>\n",
       "      <th>Insatisfeito</th>\n",
       "      <td>40.0</td>\n",
       "      <td>80.0</td>\n",
       "      <td>100.0</td>\n",
       "      <td>220.0</td>\n",
       "    </tr>\n",
       "    <tr>\n",
       "      <th>Muito Insatisfeito</th>\n",
       "      <td>40.0</td>\n",
       "      <td>20.0</td>\n",
       "      <td>60.0</td>\n",
       "      <td>120.0</td>\n",
       "    </tr>\n",
       "  </tbody>\n",
       "</table>\n",
       "</div>"
      ],
      "text/plain": [
       "ESTADO CIVIL        Casado  Outros  Solteiro    All\n",
       "SATISFAÇÃO                                         \n",
       "Muito Satisfeito       0.0     0.0       0.0    0.0\n",
       "Satisfeito            80.0     0.0      60.0  140.0\n",
       "Indiferente           40.0    20.0     180.0  240.0\n",
       "Insatisfeito          40.0    80.0     100.0  220.0\n",
       "Muito Insatisfeito    40.0    20.0      60.0  120.0"
      ]
     },
     "execution_count": 95,
     "metadata": {},
     "output_type": "execute_result"
    }
   ],
   "source": [
    "print('Tabela Cruzada por total GERAL (em %):')\n",
    "ct1 = (ct/n*100).round(decimals = 1)\n",
    "ct1"
   ]
  },
  {
   "cell_type": "code",
   "execution_count": 96,
   "metadata": {
    "collapsed": false
   },
   "outputs": [
    {
     "data": {
      "text/plain": [
       "<matplotlib.text.Text at 0xd765be0>"
      ]
     },
     "execution_count": 96,
     "metadata": {},
     "output_type": "execute_result"
    },
    {
     "data": {
      "image/png": "[encoded data removed]",
      "text/plain": [
       "<matplotlib.figure.Figure at 0xd540e48>"
      ]
     },
     "metadata": {},
     "output_type": "display_data"
    }
   ],
   "source": [
    "ct1 = pd.crosstab(satB, ecB, margins = True, rownames = ['SATISFAÇÃO'], colnames = ['ESTADO CIVIL'])\n",
    "ct1 = ct1.loc[['Muito Satisfeito', 'Satisfeito', 'Indiferente', 'Insatisfeito', 'Muito Insatisfeito']]\n",
    "ct1 = (ct1/len(dados)*100).round(decimals = 0)\n",
    "ct1 = ct1.iloc[0:5,]\n",
    "plot = ct1.plot(kind = 'bar', color = ('grey', 'orange', 'blue', 'red'))\n",
    "plt.ylabel('Freq.Relativa (em%)')"
   ]
  },
  {
   "cell_type": "code",
   "execution_count": 97,
   "metadata": {
    "collapsed": true
   },
   "outputs": [],
   "source": [
    "#Função que divide cada valor da tabela cruzada pelo total da última linha (quando axis=0) ou da última coluna (quando axis=1)\n",
    "#Retorna tabela cruzada com valores sem casa decimais\n",
    "#https://www.analyticsvidhya.com/blog/2016/01/12-pandas-techniques-python-data-manipulation/\n",
    "def percConvert(tab):\n",
    "  return (tab/float(tab[-1])*100).round(decimals = 0)"
   ]
  },
  {
   "cell_type": "code",
   "execution_count": 98,
   "metadata": {
    "collapsed": false
   },
   "outputs": [
    {
     "name": "stdout",
     "output_type": "stream",
     "text": [
      "Tabela Cruzada por total de COLUNAS (em %):\n"
     ]
    },
    {
     "data": {
      "text/html": [
       "<div>\n",
       "<table border=\"1\" class=\"dataframe\">\n",
       "  <thead>\n",
       "    <tr style=\"text-align: right;\">\n",
       "      <th>ESTADO CIVIL</th>\n",
       "      <th>Casado</th>\n",
       "      <th>Outros</th>\n",
       "      <th>Solteiro</th>\n",
       "      <th>All</th>\n",
       "    </tr>\n",
       "    <tr>\n",
       "      <th>SATISFAÇÃO</th>\n",
       "      <th></th>\n",
       "      <th></th>\n",
       "      <th></th>\n",
       "      <th></th>\n",
       "    </tr>\n",
       "  </thead>\n",
       "  <tbody>\n",
       "    <tr>\n",
       "      <th>Muito Satisfeito</th>\n",
       "      <td>0.0</td>\n",
       "      <td>0.0</td>\n",
       "      <td>0.0</td>\n",
       "      <td>0.0</td>\n",
       "    </tr>\n",
       "    <tr>\n",
       "      <th>Satisfeito</th>\n",
       "      <td>40.0</td>\n",
       "      <td>0.0</td>\n",
       "      <td>15.0</td>\n",
       "      <td>19.0</td>\n",
       "    </tr>\n",
       "    <tr>\n",
       "      <th>Indiferente</th>\n",
       "      <td>20.0</td>\n",
       "      <td>17.0</td>\n",
       "      <td>45.0</td>\n",
       "      <td>33.0</td>\n",
       "    </tr>\n",
       "    <tr>\n",
       "      <th>Insatisfeito</th>\n",
       "      <td>20.0</td>\n",
       "      <td>67.0</td>\n",
       "      <td>25.0</td>\n",
       "      <td>31.0</td>\n",
       "    </tr>\n",
       "    <tr>\n",
       "      <th>Muito Insatisfeito</th>\n",
       "      <td>20.0</td>\n",
       "      <td>17.0</td>\n",
       "      <td>15.0</td>\n",
       "      <td>17.0</td>\n",
       "    </tr>\n",
       "    <tr>\n",
       "      <th>All</th>\n",
       "      <td>100.0</td>\n",
       "      <td>100.0</td>\n",
       "      <td>100.0</td>\n",
       "      <td>100.0</td>\n",
       "    </tr>\n",
       "  </tbody>\n",
       "</table>\n",
       "</div>"
      ],
      "text/plain": [
       "ESTADO CIVIL        Casado  Outros  Solteiro    All\n",
       "SATISFAÇÃO                                         \n",
       "Muito Satisfeito       0.0     0.0       0.0    0.0\n",
       "Satisfeito            40.0     0.0      15.0   19.0\n",
       "Indiferente           20.0    17.0      45.0   33.0\n",
       "Insatisfeito          20.0    67.0      25.0   31.0\n",
       "Muito Insatisfeito    20.0    17.0      15.0   17.0\n",
       "All                  100.0   100.0     100.0  100.0"
      ]
     },
     "execution_count": 98,
     "metadata": {},
     "output_type": "execute_result"
    }
   ],
   "source": [
    "print('Tabela Cruzada por total de COLUNAS (em %):')\n",
    "ct2 = pd.crosstab(satB, ecB, margins = True, rownames = ['SATISFAÇÃO'], \n",
    "                colnames = ['ESTADO CIVIL']).apply(percConvert, axis=0)\n",
    "ct2 = ct2.loc[['Muito Satisfeito', 'Satisfeito', 'Indiferente', 'Insatisfeito', 'Muito Insatisfeito', 'All']]\n",
    "ct2"
   ]
  },
  {
   "cell_type": "code",
   "execution_count": 99,
   "metadata": {
    "collapsed": false
   },
   "outputs": [
    {
     "data": {
      "text/plain": [
       "<matplotlib.legend.Legend at 0xd69e748>"
      ]
     },
     "execution_count": 99,
     "metadata": {},
     "output_type": "execute_result"
    },
    {
     "data": {
      "image/png": "[encoded data removed]",
      "text/plain": [
       "<matplotlib.figure.Figure at 0xd7ef5c0>"
      ]
     },
     "metadata": {},
     "output_type": "display_data"
    }
   ],
   "source": [
    "ct2 = pd.crosstab(satB, ecB, margins = True, rownames = ['SATISFAÇÃO'], \n",
    "                  colnames = ['ESTADO CIVIL']).apply(percConvert, axis=0)\n",
    "ct2 = ct2.loc[['Muito Satisfeito', 'Satisfeito', 'Indiferente', 'Insatisfeito', 'Muito Insatisfeito', 'All']]\n",
    "ct2 = ct2.iloc[0:6,:]\n",
    "plot = ct2.T.plot(kind = 'bar', stacked = True, title = 'Satisfação em cada Estado Civil', color = ('purple', 'green', 'pink',\n",
    "                                                                                            'red', 'yellow', 'blue'))\n",
    "plot.set_ylim([0, 100])\n",
    "plt.ylabel('Freq.Relativa (em%)')\n",
    "\n",
    "#Para legenda ficar fora do gráfico\n",
    "ax = plt.subplot(111)\n",
    "box = ax.get_position()\n",
    "ax.set_position([box.x0, box.y0, box.width * 0.8, box.height])\n",
    "ax.legend(loc = 'center left', bbox_to_anchor = (1, 0.5))"
   ]
  },
  {
   "cell_type": "code",
   "execution_count": 100,
   "metadata": {
    "collapsed": false
   },
   "outputs": [
    {
     "name": "stdout",
     "output_type": "stream",
     "text": [
      "Tabela Cruzada por total de LINHAS (em %):\n"
     ]
    },
    {
     "data": {
      "text/html": [
       "<div>\n",
       "<table border=\"1\" class=\"dataframe\">\n",
       "  <thead>\n",
       "    <tr style=\"text-align: right;\">\n",
       "      <th>ESTADO CIVIL</th>\n",
       "      <th>Casado</th>\n",
       "      <th>Outros</th>\n",
       "      <th>Solteiro</th>\n",
       "      <th>All</th>\n",
       "    </tr>\n",
       "    <tr>\n",
       "      <th>SATISFACAO</th>\n",
       "      <th></th>\n",
       "      <th></th>\n",
       "      <th></th>\n",
       "      <th></th>\n",
       "    </tr>\n",
       "  </thead>\n",
       "  <tbody>\n",
       "    <tr>\n",
       "      <th>Muito Satisfeito</th>\n",
       "      <td>NaN</td>\n",
       "      <td>NaN</td>\n",
       "      <td>NaN</td>\n",
       "      <td>NaN</td>\n",
       "    </tr>\n",
       "    <tr>\n",
       "      <th>Satisfeito</th>\n",
       "      <td>57.0</td>\n",
       "      <td>0.0</td>\n",
       "      <td>43.0</td>\n",
       "      <td>100.0</td>\n",
       "    </tr>\n",
       "    <tr>\n",
       "      <th>Indiferente</th>\n",
       "      <td>17.0</td>\n",
       "      <td>8.0</td>\n",
       "      <td>75.0</td>\n",
       "      <td>100.0</td>\n",
       "    </tr>\n",
       "    <tr>\n",
       "      <th>Insatisfeito</th>\n",
       "      <td>18.0</td>\n",
       "      <td>36.0</td>\n",
       "      <td>45.0</td>\n",
       "      <td>100.0</td>\n",
       "    </tr>\n",
       "    <tr>\n",
       "      <th>Muito Insatisfeito</th>\n",
       "      <td>33.0</td>\n",
       "      <td>17.0</td>\n",
       "      <td>50.0</td>\n",
       "      <td>100.0</td>\n",
       "    </tr>\n",
       "    <tr>\n",
       "      <th>All</th>\n",
       "      <td>28.0</td>\n",
       "      <td>17.0</td>\n",
       "      <td>56.0</td>\n",
       "      <td>100.0</td>\n",
       "    </tr>\n",
       "  </tbody>\n",
       "</table>\n",
       "</div>"
      ],
      "text/plain": [
       "ESTADO CIVIL        Casado  Outros  Solteiro    All\n",
       "SATISFACAO                                         \n",
       "Muito Satisfeito       NaN     NaN       NaN    NaN\n",
       "Satisfeito            57.0     0.0      43.0  100.0\n",
       "Indiferente           17.0     8.0      75.0  100.0\n",
       "Insatisfeito          18.0    36.0      45.0  100.0\n",
       "Muito Insatisfeito    33.0    17.0      50.0  100.0\n",
       "All                   28.0    17.0      56.0  100.0"
      ]
     },
     "execution_count": 100,
     "metadata": {},
     "output_type": "execute_result"
    }
   ],
   "source": [
    "print('Tabela Cruzada por total de LINHAS (em %):')\n",
    "ct3 = pd.crosstab(satB, ecB, margins = True, rownames = ['SATISFACAO'], \n",
    "                  colnames=['ESTADO CIVIL']).apply(percConvert, axis = 1)\n",
    "ct3 = ct3.loc[['Muito Satisfeito', 'Satisfeito', 'Indiferente', 'Insatisfeito', 'Muito Insatisfeito', 'All']]\n",
    "ct3"
   ]
  },
  {
   "cell_type": "code",
   "execution_count": 101,
   "metadata": {
    "collapsed": false
   },
   "outputs": [
    {
     "data": {
      "text/plain": [
       "<matplotlib.legend.Legend at 0xd8ba4a8>"
      ]
     },
     "execution_count": 101,
     "metadata": {},
     "output_type": "execute_result"
    },
    {
     "data": {
      "image/png": "[encoded data removed]",
      "text/plain": [
       "<matplotlib.figure.Figure at 0xd8b27f0>"
      ]
     },
     "metadata": {},
     "output_type": "display_data"
    }
   ],
   "source": [
    "ct3 = pd.crosstab(satB, ecB, margins = True, rownames = ['SATISFAÇÃO'], \n",
    "                  colnames=['ESTADO CIVIL']).apply(percConvert, axis = 1)\n",
    "ct3 = ct3.loc[['Muito Satisfeito', 'Satisfeito', 'Indiferente', 'Insatisfeito', 'Muito Insatisfeito', 'All']]\n",
    "ct3 = ct3.iloc[:,0:3]\n",
    "plot = ct3.plot(kind = 'bar', stacked = True, title = 'Estado Civil em cada Satisfação', color = ('blue', 'yellow', 'green'))\n",
    "plt.ylabel('Freq.Relativa (em%)')\n",
    "\n",
    "#Para legenda ficar fora do gráfico\n",
    "ax = plt.subplot(111)\n",
    "box = ax.get_position()\n",
    "ax.set_position([box.x0, box.y0, box.width * 0.8, box.height])\n",
    "ax.legend(loc = 'center left', bbox_to_anchor = (1, 0.5))"
   ]
  },
  {
   "cell_type": "markdown",
   "metadata": {
    "collapsed": true
   },
   "source": [
    "## Conclusão"
   ]
  },
  {
   "cell_type": "markdown",
   "metadata": {
    "collapsed": true
   },
   "source": [
    "Após analisar os gráficos que mostram a satisfação de cada consumidor com seu plano e seu estado civil, pode-se concluír que o melhor plano para todos é o A. \n",
    "\n",
    "O plano A se mostrou o favorito dos casados, que compõem a maioria das pessoas que compraram esse plano, porém também possui grande aceitação de solteiros e outros. Já o plano B, que possui mairia solteiros, não gera grande satisfação destes, o que mostra que o melhor plano no geral é o A."
   ]
  }
 ],
 "metadata": {
  "anaconda-cloud": {},
  "kernelspec": {
   "display_name": "Python 3",
   "language": "python",
   "name": "python3"
  },
  "language_info": {
   "codemirror_mode": {
    "name": "ipython",
    "version": 3
   },
   "file_extension": ".py",
   "mimetype": "text/x-python",
   "name": "python",
   "nbconvert_exporter": "python",
   "pygments_lexer": "ipython3",
   "version": "3.5.2"
  }
 },
 "nbformat": 4,
 "nbformat_minor": 0
}
