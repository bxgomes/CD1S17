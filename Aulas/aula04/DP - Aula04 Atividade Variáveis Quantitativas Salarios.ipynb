{
 "cells": [
  {
   "cell_type": "markdown",
   "metadata": {},
   "source": [
    "___\n",
    "# Atividade: Análise Exploratória da variável quantitativa -  Salários\n",
    "___\n",
    "\n",
    "## Aula 04\n",
    "\n",
    "\n",
    "**Preparo prévio:**\n",
    "1. Leitura prévia necessária: Magalhães e Lima (7ª. Edição): pág. 18 a 25; pág. 106 e 107 (Definição 4.1 e Exemplo 4.1); pág. 116 e 117 (Definição 4.4 e Exemplo 4.8). \n",
    "2. Leitura prévia necessária: Montgomery et al (5ª. Edição): pág. 24 a 28.\n",
    "\n",
    "**Hoje:**\n",
    "1. Desenvolver medidas que gerem informações para interpretação de variáveis quantitativas.\n",
    "2. Interpretar o comportamento de uma variável quantitativa a partir dos formatos de um histograma e/ou um box-plot.\n",
    "3. Comparar cenários, a partir dos gráficos e medidas calculadas, para tomada de decisão.\n",
    "\n",
    "\n",
    "**Próxima aula:**\n",
    "1. Leitura prévia necessária: Montgomery et al (5ª. Edição) - Seção 2.6: Dados Multivariados.\n",
    "___"
   ]
  },
  {
   "cell_type": "markdown",
   "metadata": {},
   "source": [
    "** Atenção **\n",
    "\n",
    "Este notebook não vai ser entregue/verificado, mas você deve fazê-lo para garantir uma melhor assimilação dos conteúdos."
   ]
  },
  {
   "cell_type": "markdown",
   "metadata": {},
   "source": [
    "## <font color='blue'>Salários de profissionais</font>\n",
    "\n",
    "A base de dados `Salarios.txt` apresenta salários de quatro profissões diferentes, aqui, nomeadas de: A, B, C e D. \n",
    "\n",
    "Considere que esses salários foram mensurados para mil trabalhadores escolhidos aleatoriamente dentro de cada profissão. \n",
    "\n",
    "O arquivo `Salarios.xlsx` contém essas informações.\n",
    "\n",
    "Considerando esses dados, faça as seguintes tarefas:\n",
    "\n",
    "1. Calcule as medidas resumo principais (de posição e de dispersão). \n",
    "\n",
    "2. Calcule os percentis de 10% a 90% dos salários de cada profissão.\n",
    "\n",
    "3. Construa o gráfico de boxplot  para cada profissão e interprete-o.\n",
    "\n",
    "4. Construa um histograma com os salários de cada profissão e interprete-o.\n",
    "\n",
    "5. Descreva a particularidade de cada gráfico para auxiliar na interpretação e compreensão do comportamento dos dados.\n",
    "___"
   ]
  },
  {
   "cell_type": "code",
   "execution_count": 1,
   "metadata": {
    "collapsed": false
   },
   "outputs": [],
   "source": [
    "%matplotlib inline\n",
    "import pandas as pd\n",
    "import matplotlib.pyplot as plt\n",
    "import numpy as np\n",
    "import os"
   ]
  },
  {
   "cell_type": "code",
   "execution_count": 2,
   "metadata": {
    "collapsed": false
   },
   "outputs": [
    {
     "name": "stdout",
     "output_type": "stream",
     "text": [
      "Esperamos trabalhar no diretório\n",
      "C:\\Users\\Usuario\\Anaconda3\\Scripts\n"
     ]
    }
   ],
   "source": [
    "print('Esperamos trabalhar no diretório')\n",
    "print(os.getcwd())"
   ]
  },
  {
   "cell_type": "code",
   "execution_count": 4,
   "metadata": {
    "collapsed": false
   },
   "outputs": [],
   "source": [
    "sal = pd.read_table('C:\\\\Users\\\\Usuario\\\\Documents\\\\Insper\\\\C.D\\\\DP\\\\aula04\\\\Salario.txt', sep=' ')"
   ]
  },
  {
   "cell_type": "code",
   "execution_count": 7,
   "metadata": {
    "collapsed": false
   },
   "outputs": [
    {
     "data": {
      "text/html": [
       "<div>\n",
       "<table border=\"1\" class=\"dataframe\">\n",
       "  <thead>\n",
       "    <tr style=\"text-align: right;\">\n",
       "      <th></th>\n",
       "      <th>A</th>\n",
       "      <th>B</th>\n",
       "      <th>C</th>\n",
       "      <th>D</th>\n",
       "    </tr>\n",
       "  </thead>\n",
       "  <tbody>\n",
       "    <tr>\n",
       "      <th>count</th>\n",
       "      <td>1000.000000</td>\n",
       "      <td>1000.000000</td>\n",
       "      <td>1000.000000</td>\n",
       "      <td>1000.000000</td>\n",
       "    </tr>\n",
       "    <tr>\n",
       "      <th>mean</th>\n",
       "      <td>4683.116910</td>\n",
       "      <td>4470.739760</td>\n",
       "      <td>4207.062150</td>\n",
       "      <td>3252.781340</td>\n",
       "    </tr>\n",
       "    <tr>\n",
       "      <th>std</th>\n",
       "      <td>1217.427775</td>\n",
       "      <td>1206.365793</td>\n",
       "      <td>1880.275849</td>\n",
       "      <td>1285.510735</td>\n",
       "    </tr>\n",
       "    <tr>\n",
       "      <th>min</th>\n",
       "      <td>806.840000</td>\n",
       "      <td>745.380000</td>\n",
       "      <td>1003.800000</td>\n",
       "      <td>862.290000</td>\n",
       "    </tr>\n",
       "    <tr>\n",
       "      <th>25%</th>\n",
       "      <td>3888.915000</td>\n",
       "      <td>3607.732500</td>\n",
       "      <td>2584.717500</td>\n",
       "      <td>2345.997500</td>\n",
       "    </tr>\n",
       "    <tr>\n",
       "      <th>50%</th>\n",
       "      <td>4838.560000</td>\n",
       "      <td>4486.440000</td>\n",
       "      <td>4264.840000</td>\n",
       "      <td>3076.090000</td>\n",
       "    </tr>\n",
       "    <tr>\n",
       "      <th>75%</th>\n",
       "      <td>5608.157500</td>\n",
       "      <td>5332.467500</td>\n",
       "      <td>5891.862500</td>\n",
       "      <td>3895.955000</td>\n",
       "    </tr>\n",
       "    <tr>\n",
       "      <th>max</th>\n",
       "      <td>6966.520000</td>\n",
       "      <td>8540.120000</td>\n",
       "      <td>7492.650000</td>\n",
       "      <td>9570.730000</td>\n",
       "    </tr>\n",
       "  </tbody>\n",
       "</table>\n",
       "</div>"
      ],
      "text/plain": [
       "                 A            B            C            D\n",
       "count  1000.000000  1000.000000  1000.000000  1000.000000\n",
       "mean   4683.116910  4470.739760  4207.062150  3252.781340\n",
       "std    1217.427775  1206.365793  1880.275849  1285.510735\n",
       "min     806.840000   745.380000  1003.800000   862.290000\n",
       "25%    3888.915000  3607.732500  2584.717500  2345.997500\n",
       "50%    4838.560000  4486.440000  4264.840000  3076.090000\n",
       "75%    5608.157500  5332.467500  5891.862500  3895.955000\n",
       "max    6966.520000  8540.120000  7492.650000  9570.730000"
      ]
     },
     "execution_count": 7,
     "metadata": {},
     "output_type": "execute_result"
    }
   ],
   "source": [
    "sal.describe()"
   ]
  },
  {
   "cell_type": "code",
   "execution_count": 13,
   "metadata": {
    "collapsed": false
   },
   "outputs": [
    {
     "name": "stdout",
     "output_type": "stream",
     "text": [
      "\n",
      " 0.0 %:\n",
      "A     806.84\n",
      "B     745.38\n",
      "C    1003.80\n",
      "D     862.29\n",
      "dtype: float64\n",
      "\n",
      " 10.0 %:\n",
      "A    2883.355\n",
      "B    2896.849\n",
      "C    1535.019\n",
      "D    1809.722\n",
      "dtype: float64\n",
      "\n",
      " 20.0 %:\n",
      "A    3613.874\n",
      "B    3424.166\n",
      "C    2279.362\n",
      "D    2170.280\n",
      "dtype: float64\n",
      "\n",
      " 30.0 %:\n",
      "A    4092.548\n",
      "B    3796.771\n",
      "C    2926.376\n",
      "D    2499.143\n",
      "dtype: float64\n",
      "\n",
      " 40.0 %:\n",
      "A    4430.992\n",
      "B    4162.608\n",
      "C    3587.416\n",
      "D    2767.414\n",
      "dtype: float64\n",
      "\n",
      " 50.0 %:\n",
      "A    4838.56\n",
      "B    4486.44\n",
      "C    4264.84\n",
      "D    3076.09\n",
      "dtype: float64\n",
      "\n",
      " 60.0 %:\n",
      "A    5142.102\n",
      "B    4812.756\n",
      "C    4895.660\n",
      "D    3374.004\n",
      "dtype: float64\n",
      "\n",
      " 70.0 %:\n",
      "A    5436.042\n",
      "B    5188.478\n",
      "C    5522.984\n",
      "D    3734.908\n",
      "dtype: float64\n",
      "\n",
      " 80.0 %:\n",
      "A    5763.544\n",
      "B    5541.270\n",
      "C    6167.088\n",
      "D    4144.790\n",
      "dtype: float64\n",
      "\n",
      " 90.0 %:\n",
      "A    6224.150\n",
      "B    6009.471\n",
      "C    6748.267\n",
      "D    4959.339\n",
      "dtype: float64\n",
      "\n",
      " 100.0 %:\n",
      "A    6966.52\n",
      "B    8540.12\n",
      "C    7492.65\n",
      "D    9570.73\n",
      "dtype: float64\n"
     ]
    }
   ],
   "source": [
    "for p in np.arange(0,1.10,.10):\n",
    "    print('\\n', p*100, \"%:\",)\n",
    "    print(sal.quantile(p))"
   ]
  },
  {
   "cell_type": "markdown",
   "metadata": {},
   "source": [
    "______\n",
    "### Gráficos em Boxplot"
   ]
  },
  {
   "cell_type": "code",
   "execution_count": 36,
   "metadata": {
    "collapsed": false
   },
   "outputs": [
    {
     "data": {
      "text/plain": [
       "<matplotlib.text.Text at 0xc89f160>"
      ]
     },
     "execution_count": 36,
     "metadata": {},
     "output_type": "execute_result"
    },
    {
     "data": {
      "image/png": "[encoded data removed]",
      "text/plain": [
       "<matplotlib.figure.Figure at 0xc8a1e48>"
      ]
     },
     "metadata": {},
     "output_type": "display_data"
    }
   ],
   "source": [
    "# Boxplot\n",
    "plot = sal.iloc[1:4].plot(kind = 'box',title = 'Boxplot dos salários das profissões A, B, C e D')#, color='red')\n",
    "plt.ylabel('Salário')\n",
    "plt.xlabel('Profissão')"
   ]
  },
  {
   "cell_type": "markdown",
   "metadata": {},
   "source": [
    "Podemos perceber que a profissão que apresenta o melhor salário no geral é a B, pois tem seus quartis maiores do que os demais, o que mostra que grande parte dos empregados recebem um salário alto."
   ]
  },
  {
   "cell_type": "markdown",
   "metadata": {},
   "source": [
    "_____\n",
    "### Histogramas"
   ]
  },
  {
   "cell_type": "code",
   "execution_count": 27,
   "metadata": {
    "collapsed": false
   },
   "outputs": [],
   "source": [
    "import math\n",
    "\n",
    "a = math.sqrt(1000)\n",
    "k = (9570.73 - 745.38)/a\n",
    "\n",
    "faixa = np.arange(745.38,9570.73, k)"
   ]
  },
  {
   "cell_type": "code",
   "execution_count": 29,
   "metadata": {
    "collapsed": true
   },
   "outputs": [],
   "source": [
    "PA = sal.A\n",
    "PB = sal.B\n",
    "PC = sal.C\n",
    "PD = sal.D"
   ]
  },
  {
   "cell_type": "code",
   "execution_count": 38,
   "metadata": {
    "collapsed": false
   },
   "outputs": [
    {
     "data": {
      "text/plain": [
       "<matplotlib.text.Text at 0xc93f3c8>"
      ]
     },
     "execution_count": 38,
     "metadata": {},
     "output_type": "execute_result"
    },
    {
     "data": {
      "image/png": "[encoded data removed]",
      "text/plain": [
       "<matplotlib.figure.Figure at 0xca1aa58>"
      ]
     },
     "metadata": {},
     "output_type": "display_data"
    }
   ],
   "source": [
    "plot = PA.plot.hist(bins = faixa, title = 'Profissão A', figsize = (6, 6), alpha = 0.5, color = \"blue\")\n",
    "plt.ylabel('Frequência absoluta')\n",
    "plt.xlabel('Salário')"
   ]
  },
  {
   "cell_type": "code",
   "execution_count": 39,
   "metadata": {
    "collapsed": false
   },
   "outputs": [
    {
     "data": {
      "text/plain": [
       "<matplotlib.text.Text at 0xc706518>"
      ]
     },
     "execution_count": 39,
     "metadata": {},
     "output_type": "execute_result"
    },
    {
     "data": {
      "image/png": "[encoded data removed]",
      "text/plain": [
       "<matplotlib.figure.Figure at 0xca6ebe0>"
      ]
     },
     "metadata": {},
     "output_type": "display_data"
    }
   ],
   "source": [
    "plot = PB.plot.hist(bins = faixa, title = 'Profissão B', figsize = (6, 6), alpha = 0.5, color = \"red\")\n",
    "plt.ylabel('Frequência absoluta')\n",
    "plt.xlabel('Salário)')"
   ]
  },
  {
   "cell_type": "code",
   "execution_count": 40,
   "metadata": {
    "collapsed": false
   },
   "outputs": [
    {
     "data": {
      "text/plain": [
       "<matplotlib.text.Text at 0xcae6da0>"
      ]
     },
     "execution_count": 40,
     "metadata": {},
     "output_type": "execute_result"
    },
    {
     "data": {
      "image/png": "[encoded data removed]",
      "text/plain": [
       "<matplotlib.figure.Figure at 0xc664160>"
      ]
     },
     "metadata": {},
     "output_type": "display_data"
    }
   ],
   "source": [
    "plot = PC.plot.hist(bins = faixa, title = 'Profissão C', figsize = (6, 6), alpha = 0.5, color = \"green\")\n",
    "plt.ylabel('Frequência absoluta')\n",
    "plt.xlabel('Salário')"
   ]
  },
  {
   "cell_type": "code",
   "execution_count": 43,
   "metadata": {
    "collapsed": false
   },
   "outputs": [
    {
     "data": {
      "text/plain": [
       "<matplotlib.text.Text at 0xcdd7470>"
      ]
     },
     "execution_count": 43,
     "metadata": {},
     "output_type": "execute_result"
    },
    {
     "data": {
      "image/png": "[encoded data removed]",
      "text/plain": [
       "<matplotlib.figure.Figure at 0xcdf74e0>"
      ]
     },
     "metadata": {},
     "output_type": "display_data"
    }
   ],
   "source": [
    "plot = PD.plot.hist(bins = faixa, title = 'Profissão D', figsize = (6, 6), alpha = 0.5, color = \"yellow\")\n",
    "plt.ylabel('Frequência absoluta')\n",
    "plt.xlabel('Salário')"
   ]
  },
  {
   "cell_type": "markdown",
   "metadata": {},
   "source": [
    "________\n",
    "### Conclusão"
   ]
  },
  {
   "cell_type": "markdown",
   "metadata": {},
   "source": [
    "As principais vantagens do boxplot são: mostra graficamente a posição da mediana e dos outros quartis, mostra outliers e facilita a comparação destes valores."
   ]
  },
  {
   "cell_type": "markdown",
   "metadata": {},
   "source": [
    "A principal vantagem do histograma é: mostra a distribuição dos dados em forma de barras, o que facilita a comparação de padrões, com, por exemplo, a simetria."
   ]
  }
 ],
 "metadata": {
  "anaconda-cloud": {},
  "kernelspec": {
   "display_name": "Python 3",
   "language": "python",
   "name": "python3"
  },
  "language_info": {
   "codemirror_mode": {
    "name": "ipython",
    "version": 3
   },
   "file_extension": ".py",
   "mimetype": "text/x-python",
   "name": "python",
   "nbconvert_exporter": "python",
   "pygments_lexer": "ipython3",
   "version": "3.5.2"
  }
 },
 "nbformat": 4,
 "nbformat_minor": 0
}
