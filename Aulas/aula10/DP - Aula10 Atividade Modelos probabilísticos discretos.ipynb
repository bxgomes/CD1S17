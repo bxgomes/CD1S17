{
 "cells": [
  {
   "cell_type": "markdown",
   "metadata": {},
   "source": [
    "___\n",
    "# Atividade: Modelos probabilísticos discretos e Dados\n",
    "___\n",
    "\n",
    "## Aula 10\n",
    "\n",
    "**Referência de Leitura:**\n",
    "1. Magalhães e Lima (7ª. Edição): Seções 3.2 e 3.3\n",
    "\n",
    "**Hoje:**\n",
    "1.\tDescrever modelos discretos quanto aos resultados teóricos.\n",
    "2.\tExplicar a utilização de modelos probabilísticos no contexto da literatura estatística.\n",
    "3.\tContrastar resultados teóricos e empíricos.\n",
    "4.\tFechamento do conteúdo.\n",
    "\n",
    "**Próxima aula:**\n",
    "1. Leitura prévia necessária: Magalhães e Lima (7ª. Edição): Seção 5.1 (pág. 137) e Seção 5.2 (pág. 146).\n",
    "___"
   ]
  },
  {
   "cell_type": "code",
   "execution_count": 2,
   "metadata": {
    "collapsed": true
   },
   "outputs": [],
   "source": [
    "%matplotlib inline\n",
    "import pandas as pd\n",
    "import matplotlib.pyplot as plt\n",
    "\n",
    "from scipy import stats #importa apenas as funções de estatísticas da biblioteca SciPy.\n",
    "import itertools #importante para gerar todos os resultados possíveis!!"
   ]
  },
  {
   "cell_type": "markdown",
   "metadata": {},
   "source": [
    "___\n",
    "## <font color='blue'>Exercício 1</font>\n",
    "\n",
    "Um resistor de 100K Ohms comprado na Santa Efigênia tem probabilidade de falha de 5%, segundo um fabricante ruim.\n",
    "\n",
    "Ainda, por suposição, admita que os resistores falhem de forma independente entre si.\n",
    "\n",
    "Um aluno de engenharia compra um pacote contendo $n$ resistores.\n",
    "\n",
    "1. Assuma $n=3$ e faça os itens a seguir.\n",
    "  1. Monte o espaço amostral que combine todos os resultados possíveis de Falha e não Falha desses $n$ resistores. Ainda, calcule a probabilidade de cada resultado do espaço amostral acontecer.\n",
    "  2. Se $Y$ representa o número de resistores que falham em um pacotinho com $n$ resistores, então construa a distribuição de probabilidades de $Y$.\n",
    "  3. Calcule a média e o desvio padrão de $Y$. Interprete os resultados.\n",
    "  4. Utilizando o modelo probabilístico da distribuição Binomial, encontre a distribuição de probabilidades de cada possível valor de $Y$. Calcule também $E(X)$ e $Var(X)$. Compare com as distribuições de probabilidades obtidas nos itens anteriores e discuta porque esses valores são iguais ou diferentes!\n",
    "   \n",
    "2. Assuma $n=7$ e repita os itens A) a D) anteriores. No caso de $n=7$ ou maiores quantidades de resistores em um pacotinho, qual a viabilidade de construir a distribuição de probabilidades do número de resistores com defeitos quando $n$ não é pequeno seguindo os itens de A) a C)?\n",
    "    \n",
    "> \n",
    "\n",
    "> **DISTRIBUIÇÃO BINOMIAL - TEORIA:**\n",
    "\n",
    "> É responsável por modelar uma variável $Y$ definida pelo Número de sucessos em $n$ tentativas, cuja probabilidade de sucesso é dada por $p$. Assim, dizemos que $Y$~$Bin(n,p)$ e lê-se: $Y$ segue uma distribuição binomial com $n$ tentativas e $p$ como probabilidade de sucesso. \n",
    "\n",
    "> A função de probabilidade nesse caso é dada por:\n",
    "$P(Y=y)=\\left(\n",
    "\\begin{array}{c}\n",
    "    n \\\\\n",
    "    y\n",
    "\\end{array}\\right) p^y (1-p)^{(n-y)}$\n",
    "\n",
    "> Para um experimento ter as probabilidade dos números de sucessos modeladas por uma distribuição Binomial, o mesmo precisa ter as seguintes propriedades:\n",
    "* é uma contagem de $n$ repetições (ou tentativas ou ensaios) idênticas;\n",
    "* cada repetição tem apenas 2 resultados possíveis: um é denominado sucesso e o outro, fracasso;\n",
    "* a probabilidade de sucesso para cada ensaio é denominada $p$ e será constante em cada repetição. Então, a probabilidade de fracasso $(1-p)$ também não varia de tentativa para tentativa;\n",
    "* As tentativas são independentes.\n",
    "\n",
    "\n",
    "> **DISTRIBUIÇÃO BINOMIAL - PYTHON:** <sup> [https://en.wikipedia.org/wiki/SciPy]\n",
    "\n",
    "> Algumas funções úteis para desenvolver seu código: <sup> [http://docs.scipy.org/doc/scipy-0.16.1/reference/generated/scipy.stats.binom.html]\n",
    "* $P(Y=y)$: `stats.binom.pmf(y, n, p)`\n",
    "* $P(Y\\leq y)$: `stats.binom.cdf(y, n, p)`\n",
    "* $E(Y)$ e $Var(Y)$: `stats.binom.stats(n, p, moments='mv')`\n"
   ]
  },
  {
   "cell_type": "code",
   "execution_count": 3,
   "metadata": {
    "collapsed": true
   },
   "outputs": [],
   "source": [
    "#item 1\n",
    "n1 = 3\n",
    "\n",
    "#item 2\n",
    "n2 = 7"
   ]
  },
  {
   "cell_type": "markdown",
   "metadata": {},
   "source": [
    "#### 1 - a)"
   ]
  },
  {
   "cell_type": "code",
   "execution_count": 4,
   "metadata": {
    "collapsed": true
   },
   "outputs": [],
   "source": [
    "possibilidades = [\"F\", \"NF\"] # F = Funciona, NF = Não Funciona"
   ]
  },
  {
   "cell_type": "code",
   "execution_count": 5,
   "metadata": {
    "collapsed": true
   },
   "outputs": [],
   "source": [
    "prob = {\"F\": 0.95, \"NF\": 0.05}"
   ]
  },
  {
   "cell_type": "code",
   "execution_count": 6,
   "metadata": {
    "collapsed": true
   },
   "outputs": [],
   "source": [
    "arranjos = itertools.product(possibilidades, repeat = n1)\n",
    "espaco_amostral = list(arranjos)"
   ]
  },
  {
   "cell_type": "code",
   "execution_count": 7,
   "metadata": {
    "collapsed": false
   },
   "outputs": [
    {
     "data": {
      "text/plain": [
       "[('F', 'F', 'F'),\n",
       " ('F', 'F', 'NF'),\n",
       " ('F', 'NF', 'F'),\n",
       " ('F', 'NF', 'NF'),\n",
       " ('NF', 'F', 'F'),\n",
       " ('NF', 'F', 'NF'),\n",
       " ('NF', 'NF', 'F'),\n",
       " ('NF', 'NF', 'NF')]"
      ]
     },
     "execution_count": 7,
     "metadata": {},
     "output_type": "execute_result"
    }
   ],
   "source": [
    "espaco_amostral"
   ]
  },
  {
   "cell_type": "code",
   "execution_count": 8,
   "metadata": {
    "collapsed": false
   },
   "outputs": [
    {
     "name": "stdout",
     "output_type": "stream",
     "text": [
      "A probabilidade de  ('F', 'F', 'F')  é igual a  0.85737\n",
      "A probabilidade de  ('F', 'F', 'NF')  é igual a  0.04512\n",
      "A probabilidade de  ('F', 'NF', 'F')  é igual a  0.04512\n",
      "A probabilidade de  ('F', 'NF', 'NF')  é igual a  0.00238\n",
      "A probabilidade de  ('NF', 'F', 'F')  é igual a  0.04512\n",
      "A probabilidade de  ('NF', 'F', 'NF')  é igual a  0.00238\n",
      "A probabilidade de  ('NF', 'NF', 'F')  é igual a  0.00238\n",
      "A probabilidade de  ('NF', 'NF', 'NF')  é igual a  0.00013\n"
     ]
    }
   ],
   "source": [
    "prob_linhas = []\n",
    "\n",
    "for res in espaco_amostral:\n",
    "    p = 1.0\n",
    "    for e in res:\n",
    "        p*= prob[e]\n",
    "    prob_linhas.append(p)\n",
    "    print(\"A probabilidade de \", res, \" é igual a \", \"%3.5f\"%p)"
   ]
  },
  {
   "cell_type": "markdown",
   "metadata": {},
   "source": [
    "#### b)"
   ]
  },
  {
   "cell_type": "code",
   "execution_count": 9,
   "metadata": {
    "collapsed": true
   },
   "outputs": [],
   "source": [
    "# Dicionário para acumular a variável aleatória. \n",
    "valores_Y = {}"
   ]
  },
  {
   "cell_type": "code",
   "execution_count": 10,
   "metadata": {
    "collapsed": true
   },
   "outputs": [],
   "source": [
    "for i in range(len(espaco_amostral)):\n",
    "    y = espaco_amostral[i].count(\"NF\")\n",
    "    \n",
    "    if y in valores_Y:\n",
    "        valores_Y[y] += prob_linhas[i]\n",
    "    else:\n",
    "        valores_Y[y] = prob_linhas[i]"
   ]
  },
  {
   "cell_type": "code",
   "execution_count": 11,
   "metadata": {
    "collapsed": false
   },
   "outputs": [
    {
     "name": "stdout",
     "output_type": "stream",
     "text": [
      "Distribuição de probabilidades da variável aleatória Y - número de resistores que não funcionam.\n",
      "\n",
      "Número de resistores que não funcionam:  0 - Probabilidade: 0.85737 \n",
      "Número de resistores que não funcionam:  1 - Probabilidade: 0.13537 \n",
      "Número de resistores que não funcionam:  2 - Probabilidade: 0.00713 \n",
      "Número de resistores que não funcionam:  3 - Probabilidade: 0.00013 \n"
     ]
    }
   ],
   "source": [
    "print(\"Distribuição de probabilidades da variável aleatória Y - número de resistores que não funcionam.\")\n",
    "print('')\n",
    "for y in valores_Y:\n",
    "    print(\"Número de resistores que não funcionam: \", y, \"- Probabilidade:\", \"%6.5f \"%valores_Y[y])"
   ]
  },
  {
   "cell_type": "markdown",
   "metadata": {},
   "source": [
    "#### c)"
   ]
  },
  {
   "cell_type": "code",
   "execution_count": 12,
   "metadata": {
    "collapsed": false
   },
   "outputs": [
    {
     "name": "stdout",
     "output_type": "stream",
     "text": [
      "A média é igual a: 0.15\n"
     ]
    }
   ],
   "source": [
    "media = 0\n",
    "for y in valores_Y:\n",
    "    media += (y * valores_Y[y])\n",
    "    \n",
    "print(\"A média é igual a:\", media)"
   ]
  },
  {
   "cell_type": "markdown",
   "metadata": {},
   "source": [
    "#### d)"
   ]
  },
  {
   "cell_type": "code",
   "execution_count": 13,
   "metadata": {
    "collapsed": false
   },
   "outputs": [],
   "source": [
    "# P(Y=y): stats.binom.pmf(y, n1, p)\n",
    "# P(Y≤y): stats.binom.cdf(y, n1, p)\n",
    "# E(Y) e Var(Y): stats.binom.stats(n1, p, moments='mv')"
   ]
  },
  {
   "cell_type": "code",
   "execution_count": 14,
   "metadata": {
    "collapsed": false
   },
   "outputs": [],
   "source": [
    "import math\n",
    "a = math.factorial(n1)/math.factorial(y) * math.factorial(n1-y)"
   ]
  },
  {
   "cell_type": "markdown",
   "metadata": {},
   "source": [
    "#### 2)"
   ]
  },
  {
   "cell_type": "code",
   "execution_count": 15,
   "metadata": {
    "collapsed": true
   },
   "outputs": [],
   "source": [
    "# a)\n",
    "\n",
    "arranjos2 = itertools.product(possibilidades, repeat = n2)\n",
    "espaco_amostral2 = list(arranjos2)"
   ]
  },
  {
   "cell_type": "code",
   "execution_count": 16,
   "metadata": {
    "collapsed": false
   },
   "outputs": [
    {
     "name": "stdout",
     "output_type": "stream",
     "text": [
      "A probabilidade de  ('F', 'F', 'F', 'F', 'F', 'F', 'F')  é igual a  0.69834\n",
      "A probabilidade de  ('F', 'F', 'F', 'F', 'F', 'F', 'NF')  é igual a  0.03675\n",
      "A probabilidade de  ('F', 'F', 'F', 'F', 'F', 'NF', 'F')  é igual a  0.03675\n",
      "A probabilidade de  ('F', 'F', 'F', 'F', 'F', 'NF', 'NF')  é igual a  0.00193\n",
      "A probabilidade de  ('F', 'F', 'F', 'F', 'NF', 'F', 'F')  é igual a  0.03675\n",
      "A probabilidade de  ('F', 'F', 'F', 'F', 'NF', 'F', 'NF')  é igual a  0.00193\n",
      "A probabilidade de  ('F', 'F', 'F', 'F', 'NF', 'NF', 'F')  é igual a  0.00193\n",
      "A probabilidade de  ('F', 'F', 'F', 'F', 'NF', 'NF', 'NF')  é igual a  0.00010\n",
      "A probabilidade de  ('F', 'F', 'F', 'NF', 'F', 'F', 'F')  é igual a  0.03675\n",
      "A probabilidade de  ('F', 'F', 'F', 'NF', 'F', 'F', 'NF')  é igual a  0.00193\n",
      "A probabilidade de  ('F', 'F', 'F', 'NF', 'F', 'NF', 'F')  é igual a  0.00193\n",
      "A probabilidade de  ('F', 'F', 'F', 'NF', 'F', 'NF', 'NF')  é igual a  0.00010\n",
      "A probabilidade de  ('F', 'F', 'F', 'NF', 'NF', 'F', 'F')  é igual a  0.00193\n",
      "A probabilidade de  ('F', 'F', 'F', 'NF', 'NF', 'F', 'NF')  é igual a  0.00010\n",
      "A probabilidade de  ('F', 'F', 'F', 'NF', 'NF', 'NF', 'F')  é igual a  0.00010\n",
      "A probabilidade de  ('F', 'F', 'F', 'NF', 'NF', 'NF', 'NF')  é igual a  0.00001\n",
      "A probabilidade de  ('F', 'F', 'NF', 'F', 'F', 'F', 'F')  é igual a  0.03675\n",
      "A probabilidade de  ('F', 'F', 'NF', 'F', 'F', 'F', 'NF')  é igual a  0.00193\n",
      "A probabilidade de  ('F', 'F', 'NF', 'F', 'F', 'NF', 'F')  é igual a  0.00193\n",
      "A probabilidade de  ('F', 'F', 'NF', 'F', 'F', 'NF', 'NF')  é igual a  0.00010\n",
      "A probabilidade de  ('F', 'F', 'NF', 'F', 'NF', 'F', 'F')  é igual a  0.00193\n",
      "A probabilidade de  ('F', 'F', 'NF', 'F', 'NF', 'F', 'NF')  é igual a  0.00010\n",
      "A probabilidade de  ('F', 'F', 'NF', 'F', 'NF', 'NF', 'F')  é igual a  0.00010\n",
      "A probabilidade de  ('F', 'F', 'NF', 'F', 'NF', 'NF', 'NF')  é igual a  0.00001\n",
      "A probabilidade de  ('F', 'F', 'NF', 'NF', 'F', 'F', 'F')  é igual a  0.00193\n",
      "A probabilidade de  ('F', 'F', 'NF', 'NF', 'F', 'F', 'NF')  é igual a  0.00010\n",
      "A probabilidade de  ('F', 'F', 'NF', 'NF', 'F', 'NF', 'F')  é igual a  0.00010\n",
      "A probabilidade de  ('F', 'F', 'NF', 'NF', 'F', 'NF', 'NF')  é igual a  0.00001\n",
      "A probabilidade de  ('F', 'F', 'NF', 'NF', 'NF', 'F', 'F')  é igual a  0.00010\n",
      "A probabilidade de  ('F', 'F', 'NF', 'NF', 'NF', 'F', 'NF')  é igual a  0.00001\n",
      "A probabilidade de  ('F', 'F', 'NF', 'NF', 'NF', 'NF', 'F')  é igual a  0.00001\n",
      "A probabilidade de  ('F', 'F', 'NF', 'NF', 'NF', 'NF', 'NF')  é igual a  0.00000\n",
      "A probabilidade de  ('F', 'NF', 'F', 'F', 'F', 'F', 'F')  é igual a  0.03675\n",
      "A probabilidade de  ('F', 'NF', 'F', 'F', 'F', 'F', 'NF')  é igual a  0.00193\n",
      "A probabilidade de  ('F', 'NF', 'F', 'F', 'F', 'NF', 'F')  é igual a  0.00193\n",
      "A probabilidade de  ('F', 'NF', 'F', 'F', 'F', 'NF', 'NF')  é igual a  0.00010\n",
      "A probabilidade de  ('F', 'NF', 'F', 'F', 'NF', 'F', 'F')  é igual a  0.00193\n",
      "A probabilidade de  ('F', 'NF', 'F', 'F', 'NF', 'F', 'NF')  é igual a  0.00010\n",
      "A probabilidade de  ('F', 'NF', 'F', 'F', 'NF', 'NF', 'F')  é igual a  0.00010\n",
      "A probabilidade de  ('F', 'NF', 'F', 'F', 'NF', 'NF', 'NF')  é igual a  0.00001\n",
      "A probabilidade de  ('F', 'NF', 'F', 'NF', 'F', 'F', 'F')  é igual a  0.00193\n",
      "A probabilidade de  ('F', 'NF', 'F', 'NF', 'F', 'F', 'NF')  é igual a  0.00010\n",
      "A probabilidade de  ('F', 'NF', 'F', 'NF', 'F', 'NF', 'F')  é igual a  0.00010\n",
      "A probabilidade de  ('F', 'NF', 'F', 'NF', 'F', 'NF', 'NF')  é igual a  0.00001\n",
      "A probabilidade de  ('F', 'NF', 'F', 'NF', 'NF', 'F', 'F')  é igual a  0.00010\n",
      "A probabilidade de  ('F', 'NF', 'F', 'NF', 'NF', 'F', 'NF')  é igual a  0.00001\n",
      "A probabilidade de  ('F', 'NF', 'F', 'NF', 'NF', 'NF', 'F')  é igual a  0.00001\n",
      "A probabilidade de  ('F', 'NF', 'F', 'NF', 'NF', 'NF', 'NF')  é igual a  0.00000\n",
      "A probabilidade de  ('F', 'NF', 'NF', 'F', 'F', 'F', 'F')  é igual a  0.00193\n",
      "A probabilidade de  ('F', 'NF', 'NF', 'F', 'F', 'F', 'NF')  é igual a  0.00010\n",
      "A probabilidade de  ('F', 'NF', 'NF', 'F', 'F', 'NF', 'F')  é igual a  0.00010\n",
      "A probabilidade de  ('F', 'NF', 'NF', 'F', 'F', 'NF', 'NF')  é igual a  0.00001\n",
      "A probabilidade de  ('F', 'NF', 'NF', 'F', 'NF', 'F', 'F')  é igual a  0.00010\n",
      "A probabilidade de  ('F', 'NF', 'NF', 'F', 'NF', 'F', 'NF')  é igual a  0.00001\n",
      "A probabilidade de  ('F', 'NF', 'NF', 'F', 'NF', 'NF', 'F')  é igual a  0.00001\n",
      "A probabilidade de  ('F', 'NF', 'NF', 'F', 'NF', 'NF', 'NF')  é igual a  0.00000\n",
      "A probabilidade de  ('F', 'NF', 'NF', 'NF', 'F', 'F', 'F')  é igual a  0.00010\n",
      "A probabilidade de  ('F', 'NF', 'NF', 'NF', 'F', 'F', 'NF')  é igual a  0.00001\n",
      "A probabilidade de  ('F', 'NF', 'NF', 'NF', 'F', 'NF', 'F')  é igual a  0.00001\n",
      "A probabilidade de  ('F', 'NF', 'NF', 'NF', 'F', 'NF', 'NF')  é igual a  0.00000\n",
      "A probabilidade de  ('F', 'NF', 'NF', 'NF', 'NF', 'F', 'F')  é igual a  0.00001\n",
      "A probabilidade de  ('F', 'NF', 'NF', 'NF', 'NF', 'F', 'NF')  é igual a  0.00000\n",
      "A probabilidade de  ('F', 'NF', 'NF', 'NF', 'NF', 'NF', 'F')  é igual a  0.00000\n",
      "A probabilidade de  ('F', 'NF', 'NF', 'NF', 'NF', 'NF', 'NF')  é igual a  0.00000\n",
      "A probabilidade de  ('NF', 'F', 'F', 'F', 'F', 'F', 'F')  é igual a  0.03675\n",
      "A probabilidade de  ('NF', 'F', 'F', 'F', 'F', 'F', 'NF')  é igual a  0.00193\n",
      "A probabilidade de  ('NF', 'F', 'F', 'F', 'F', 'NF', 'F')  é igual a  0.00193\n",
      "A probabilidade de  ('NF', 'F', 'F', 'F', 'F', 'NF', 'NF')  é igual a  0.00010\n",
      "A probabilidade de  ('NF', 'F', 'F', 'F', 'NF', 'F', 'F')  é igual a  0.00193\n",
      "A probabilidade de  ('NF', 'F', 'F', 'F', 'NF', 'F', 'NF')  é igual a  0.00010\n",
      "A probabilidade de  ('NF', 'F', 'F', 'F', 'NF', 'NF', 'F')  é igual a  0.00010\n",
      "A probabilidade de  ('NF', 'F', 'F', 'F', 'NF', 'NF', 'NF')  é igual a  0.00001\n",
      "A probabilidade de  ('NF', 'F', 'F', 'NF', 'F', 'F', 'F')  é igual a  0.00193\n",
      "A probabilidade de  ('NF', 'F', 'F', 'NF', 'F', 'F', 'NF')  é igual a  0.00010\n",
      "A probabilidade de  ('NF', 'F', 'F', 'NF', 'F', 'NF', 'F')  é igual a  0.00010\n",
      "A probabilidade de  ('NF', 'F', 'F', 'NF', 'F', 'NF', 'NF')  é igual a  0.00001\n",
      "A probabilidade de  ('NF', 'F', 'F', 'NF', 'NF', 'F', 'F')  é igual a  0.00010\n",
      "A probabilidade de  ('NF', 'F', 'F', 'NF', 'NF', 'F', 'NF')  é igual a  0.00001\n",
      "A probabilidade de  ('NF', 'F', 'F', 'NF', 'NF', 'NF', 'F')  é igual a  0.00001\n",
      "A probabilidade de  ('NF', 'F', 'F', 'NF', 'NF', 'NF', 'NF')  é igual a  0.00000\n",
      "A probabilidade de  ('NF', 'F', 'NF', 'F', 'F', 'F', 'F')  é igual a  0.00193\n",
      "A probabilidade de  ('NF', 'F', 'NF', 'F', 'F', 'F', 'NF')  é igual a  0.00010\n",
      "A probabilidade de  ('NF', 'F', 'NF', 'F', 'F', 'NF', 'F')  é igual a  0.00010\n",
      "A probabilidade de  ('NF', 'F', 'NF', 'F', 'F', 'NF', 'NF')  é igual a  0.00001\n",
      "A probabilidade de  ('NF', 'F', 'NF', 'F', 'NF', 'F', 'F')  é igual a  0.00010\n",
      "A probabilidade de  ('NF', 'F', 'NF', 'F', 'NF', 'F', 'NF')  é igual a  0.00001\n",
      "A probabilidade de  ('NF', 'F', 'NF', 'F', 'NF', 'NF', 'F')  é igual a  0.00001\n",
      "A probabilidade de  ('NF', 'F', 'NF', 'F', 'NF', 'NF', 'NF')  é igual a  0.00000\n",
      "A probabilidade de  ('NF', 'F', 'NF', 'NF', 'F', 'F', 'F')  é igual a  0.00010\n",
      "A probabilidade de  ('NF', 'F', 'NF', 'NF', 'F', 'F', 'NF')  é igual a  0.00001\n",
      "A probabilidade de  ('NF', 'F', 'NF', 'NF', 'F', 'NF', 'F')  é igual a  0.00001\n",
      "A probabilidade de  ('NF', 'F', 'NF', 'NF', 'F', 'NF', 'NF')  é igual a  0.00000\n",
      "A probabilidade de  ('NF', 'F', 'NF', 'NF', 'NF', 'F', 'F')  é igual a  0.00001\n",
      "A probabilidade de  ('NF', 'F', 'NF', 'NF', 'NF', 'F', 'NF')  é igual a  0.00000\n",
      "A probabilidade de  ('NF', 'F', 'NF', 'NF', 'NF', 'NF', 'F')  é igual a  0.00000\n",
      "A probabilidade de  ('NF', 'F', 'NF', 'NF', 'NF', 'NF', 'NF')  é igual a  0.00000\n",
      "A probabilidade de  ('NF', 'NF', 'F', 'F', 'F', 'F', 'F')  é igual a  0.00193\n",
      "A probabilidade de  ('NF', 'NF', 'F', 'F', 'F', 'F', 'NF')  é igual a  0.00010\n",
      "A probabilidade de  ('NF', 'NF', 'F', 'F', 'F', 'NF', 'F')  é igual a  0.00010\n",
      "A probabilidade de  ('NF', 'NF', 'F', 'F', 'F', 'NF', 'NF')  é igual a  0.00001\n",
      "A probabilidade de  ('NF', 'NF', 'F', 'F', 'NF', 'F', 'F')  é igual a  0.00010\n",
      "A probabilidade de  ('NF', 'NF', 'F', 'F', 'NF', 'F', 'NF')  é igual a  0.00001\n",
      "A probabilidade de  ('NF', 'NF', 'F', 'F', 'NF', 'NF', 'F')  é igual a  0.00001\n",
      "A probabilidade de  ('NF', 'NF', 'F', 'F', 'NF', 'NF', 'NF')  é igual a  0.00000\n",
      "A probabilidade de  ('NF', 'NF', 'F', 'NF', 'F', 'F', 'F')  é igual a  0.00010\n",
      "A probabilidade de  ('NF', 'NF', 'F', 'NF', 'F', 'F', 'NF')  é igual a  0.00001\n",
      "A probabilidade de  ('NF', 'NF', 'F', 'NF', 'F', 'NF', 'F')  é igual a  0.00001\n",
      "A probabilidade de  ('NF', 'NF', 'F', 'NF', 'F', 'NF', 'NF')  é igual a  0.00000\n",
      "A probabilidade de  ('NF', 'NF', 'F', 'NF', 'NF', 'F', 'F')  é igual a  0.00001\n",
      "A probabilidade de  ('NF', 'NF', 'F', 'NF', 'NF', 'F', 'NF')  é igual a  0.00000\n",
      "A probabilidade de  ('NF', 'NF', 'F', 'NF', 'NF', 'NF', 'F')  é igual a  0.00000\n",
      "A probabilidade de  ('NF', 'NF', 'F', 'NF', 'NF', 'NF', 'NF')  é igual a  0.00000\n",
      "A probabilidade de  ('NF', 'NF', 'NF', 'F', 'F', 'F', 'F')  é igual a  0.00010\n",
      "A probabilidade de  ('NF', 'NF', 'NF', 'F', 'F', 'F', 'NF')  é igual a  0.00001\n",
      "A probabilidade de  ('NF', 'NF', 'NF', 'F', 'F', 'NF', 'F')  é igual a  0.00001\n",
      "A probabilidade de  ('NF', 'NF', 'NF', 'F', 'F', 'NF', 'NF')  é igual a  0.00000\n",
      "A probabilidade de  ('NF', 'NF', 'NF', 'F', 'NF', 'F', 'F')  é igual a  0.00001\n",
      "A probabilidade de  ('NF', 'NF', 'NF', 'F', 'NF', 'F', 'NF')  é igual a  0.00000\n",
      "A probabilidade de  ('NF', 'NF', 'NF', 'F', 'NF', 'NF', 'F')  é igual a  0.00000\n",
      "A probabilidade de  ('NF', 'NF', 'NF', 'F', 'NF', 'NF', 'NF')  é igual a  0.00000\n",
      "A probabilidade de  ('NF', 'NF', 'NF', 'NF', 'F', 'F', 'F')  é igual a  0.00001\n",
      "A probabilidade de  ('NF', 'NF', 'NF', 'NF', 'F', 'F', 'NF')  é igual a  0.00000\n",
      "A probabilidade de  ('NF', 'NF', 'NF', 'NF', 'F', 'NF', 'F')  é igual a  0.00000\n",
      "A probabilidade de  ('NF', 'NF', 'NF', 'NF', 'F', 'NF', 'NF')  é igual a  0.00000\n",
      "A probabilidade de  ('NF', 'NF', 'NF', 'NF', 'NF', 'F', 'F')  é igual a  0.00000\n",
      "A probabilidade de  ('NF', 'NF', 'NF', 'NF', 'NF', 'F', 'NF')  é igual a  0.00000\n",
      "A probabilidade de  ('NF', 'NF', 'NF', 'NF', 'NF', 'NF', 'F')  é igual a  0.00000\n",
      "A probabilidade de  ('NF', 'NF', 'NF', 'NF', 'NF', 'NF', 'NF')  é igual a  0.00000\n"
     ]
    }
   ],
   "source": [
    "prob_linhas = []\n",
    "\n",
    "for res in espaco_amostral2:\n",
    "    p = 1.0\n",
    "    for e in res:\n",
    "        p*= prob[e]\n",
    "    prob_linhas.append(p)\n",
    "    print(\"A probabilidade de \", res, \" é igual a \", \"%3.5f\"%p)"
   ]
  },
  {
   "cell_type": "code",
   "execution_count": null,
   "metadata": {
    "collapsed": true
   },
   "outputs": [],
   "source": []
  },
  {
   "cell_type": "markdown",
   "metadata": {},
   "source": [
    "___\n",
    "## <font color='blue'>Exercício 2</font> \n",
    "\n",
    "### <font color='red'>**Publicar no github até dia 21/03 INDIVIDUAL **</font>\n",
    "\n",
    "Esse exercício irá explorar uma modelagem de dados reais.\n",
    "\n",
    "> **Confira alguns itens obrigatórios verificados durante a vistoria do Detran**\n",
    "\n",
    "> *Todos os veículos, novos ou velhos, precisam passar por uma vistoria todos os anos. (...) O motorista precisa estar atento a alguns itens obrigatórios. Tudo deve funcionar perfeitamente, apresentar bom estado de conservação e estar dentro do prazo de validade.*\n",
    "\n",
    "> <sup>Fonte: http://extra.globo.com/noticias/brasil/transito-seguro/confira-alguns-itens-obrigatorios-verificados-durante-vistoria-do-detran-10190355.html</sup>\n",
    "\n",
    "Essa matéria lista 14 itens que são inspecionados pelo Detran, dentre os quais têm-se: extintor de incêndio deve estar dentro do prazo de validade; pneus devem estar em bom estado de conservação; buzina deve funcionar perfeitamente; e cintos de segurança para todos os ocupantes do carro. Se, no final das contas, todos os 14 itens estiverem funcionando perfeitamente, o motorista irá feliz para casa assegurado de que seu carro está sem problemas com a vistoria.\n",
    "\n",
    "1. A base de dados `Carros.txt` apresenta, para cada um dos três mil carros de passeio vistoriados, duas informações: tipo de carro (1: Popular e 2: Não Popular) e quantidade de itens vistoriados em não conformidade (que pode variar de 0 a 14). \n",
    "    1. Considerando todos os carros, analise a quantidade de itens vistoriados em não conformidade. Pela tabela de frequências relativas, calcule a média e variância dessa quantidade. Interprete-os.\n",
    "    2. Assuma que a variável *Quantidade de itens em não conformidade* possa ser ajustada pelo modelo Binomial com parâmetros $n=14$ e $p=0,10$. Interprete esses parâmetros para o problema em questão e, ainda, discuta se as propriedades da distribuição Binomial estão satisfeitas para o problema aqui me questão.\n",
    "    \n",
    "    **Independente da sua resposta anterior, considere que a distribuição binomial seja adequada para modelar a variável de interesse nos próximos itens!**\n",
    "    3. Utilizando o método `stats.binom.pmf`, obtenha a probabilidade de cada uma das quantidades de itens em não conformidade quando $n=14$ e $p=0,10$. Calcule o valor esperado e a variância da quantidade de itens em não conformidade utilizando o método `stats.binom.stats` e via resultado da Tabela 4.4 do Magalhães e Lima (pág. 125).\n",
    "    4. Compare as probabilidades teóricas com as frequências relativas observadas nos dados. Para isso, tem-se, por exemplo, as duas opções abaixo para comparar se os resultados empíricos se encaixam com o modelo teórico proposto. \n",
    "        - A primeira opção gráfica contrasta a frequência relativa e a probabilidade teórica para uma determinada quantidade de itens em não conformidade! Vide Figura 3.4 do livro Magalhães e Lima (pág. 87). Ou seja, essa opção contrasta a frequência relativa em um valor de $y$ e a probabilidade pontual $P(Y=y)$.\n",
    "        - A segunda contrasta a frequência relativa acumulada com a probabilidade acumulada até determinada quantidade de itens em não conformidade. Ou seja, compara a frequência relativa acumulada até $y$ com a probabilidade acumulada $P(Y\\leq y)$.\n",
    "    Construa os gráficos de acordo com as duas opções e refine sua conclusão quanto ao uso do modelo teórico para ajustar a variável em questão!\n",
    "    5. Na prática, qual a necessidade de um modelo probabilístico já que se têm os dados observados?\n",
    "    6. Considerando apenas os carros populares, o modelo Binomial com parâmetros $n=14$ e $p=0,10$ é adequado para ajustar a variável Quantidade de itens em não conformidade? Se sim, justifique; caso não, sugira novos valores para os parâmetros da distribuição ajuste aos dados."
   ]
  },
  {
   "cell_type": "code",
   "execution_count": 17,
   "metadata": {
    "collapsed": false
   },
   "outputs": [
    {
     "name": "stdout",
     "output_type": "stream",
     "text": [
      "Esperamos trabalhar no diretório\n",
      "C:\\Users\\Usuario\\Anaconda3\\Scripts\n"
     ]
    }
   ],
   "source": [
    "import os\n",
    "print('Esperamos trabalhar no diretório')\n",
    "print(os.getcwd())\n",
    "carros = pd.read_table('C:\\\\Users\\\\Usuario\\\\Documents\\\\Insper\\\\C.D\\\\DP\\\\aula10\\\\Carros.txt', sep=' ')"
   ]
  },
  {
   "cell_type": "code",
   "execution_count": 18,
   "metadata": {
    "collapsed": false
   },
   "outputs": [],
   "source": [
    "carros.Tipo = carros.Tipo.astype('category')\n",
    "carros.Tipo.cat.categories = ('Popular', 'Não Popular')"
   ]
  },
  {
   "cell_type": "markdown",
   "metadata": {},
   "source": [
    "#### a)"
   ]
  },
  {
   "cell_type": "code",
   "execution_count": 19,
   "metadata": {
    "collapsed": false
   },
   "outputs": [
    {
     "name": "stdout",
     "output_type": "stream",
     "text": [
      "A média é igual a: 1.3713333333333333 \n",
      "A variância é igual a: 1.5799715460709343\n"
     ]
    }
   ],
   "source": [
    "media = carros.Quantidade.mean()\n",
    "var = carros.Quantidade.var()\n",
    "\n",
    "print('A média é igual a:', media, '\\nA variância é igual a:', var)"
   ]
  },
  {
   "cell_type": "code",
   "execution_count": null,
   "metadata": {
    "collapsed": true
   },
   "outputs": [],
   "source": []
  },
  {
   "cell_type": "markdown",
   "metadata": {},
   "source": [
    "#### b)"
   ]
  },
  {
   "cell_type": "code",
   "execution_count": 20,
   "metadata": {
    "collapsed": true
   },
   "outputs": [],
   "source": [
    "n = 14\n",
    "p = 0,1"
   ]
  },
  {
   "cell_type": "code",
   "execution_count": 21,
   "metadata": {
    "collapsed": true
   },
   "outputs": [],
   "source": [
    "# Y = número de \"sucessos\" em n tentativas\n",
    "# p = probabilidade do \"sucesso\""
   ]
  },
  {
   "cell_type": "markdown",
   "metadata": {},
   "source": [
    "#### c)"
   ]
  },
  {
   "cell_type": "code",
   "execution_count": 22,
   "metadata": {
    "collapsed": false
   },
   "outputs": [
    {
     "data": {
      "text/plain": [
       "(array([  0.,  14.]), array([ 0.,  0.]))"
      ]
     },
     "execution_count": 22,
     "metadata": {},
     "output_type": "execute_result"
    }
   ],
   "source": [
    "#stats.binom.pmf(y, n, p)\n",
    "stats.binom.stats(n, p, moments = 'mv')"
   ]
  },
  {
   "cell_type": "markdown",
   "metadata": {
    "collapsed": true
   },
   "source": [
    "___\n",
    "## <font color='blue'>Exercício 3</font>\n",
    "\n",
    "### <font color='red'>**Publicar no github até dia 21/03 INDIVIDUAL **</font>\n",
    "\n",
    "Esse exercício irá explorar modelos de distribuição de Poisson.\n",
    "\n",
    "Uma fábrica produz determinado veículo. O gerente de vendas fechou um negócio que implica na produção de pelo menos 110 unidades nos próximos dois meses. Para isso, será construída uma nova linha de montagem com capacidade para produzir em média 50 veículos por mês (considere meses de 30 dias). A linha funcionará ininterruptamente. Além disso, apenas um veículo é produzido por vez. Considere que um modelo Poisson seja adequado para a quantidade de veículos produzidos.\n",
    "   1. Qual a probabilidade  da produção ser igual a 100 veículos nos próximos dois meses?\n",
    "   2. Qual a probabilidade  da produção ser de pelo menos 100 veículos nos próximos dois meses?\n",
    "   3. Qual a probabilidade da produção ser entre 100 e 110 veículos nos próximos dois meses?\n",
    "   4. Se forem produzidos de pelo menos 100 veículos no próximo mês, qual a probabilidade do gerente cumprir a meta negociada?\n",
    "   5. Caso o prazo seja cumprido, o lucro será da ordem de $250$ mil, caso não seja, o lucro cai para $200$ mil. Qual é o lucro esperado e seu desvio-padrão?\n",
    "\n",
    "**Observação:** Explore os comandos de `stats.poisson`. <sup>[http://docs.scipy.org/doc/scipy/reference/generated/scipy.stats.poisson.html]\n"
   ]
  },
  {
   "cell_type": "code",
   "execution_count": 23,
   "metadata": {
    "collapsed": true
   },
   "outputs": [],
   "source": [
    "k = 60\n",
    "mu = 100"
   ]
  },
  {
   "cell_type": "code",
   "execution_count": 24,
   "metadata": {
    "collapsed": false
   },
   "outputs": [],
   "source": [
    "from scipy.stats import poisson\n",
    "import matplotlib.pyplot as plt\n",
    "import numpy as np"
   ]
  },
  {
   "cell_type": "code",
   "execution_count": 25,
   "metadata": {
    "collapsed": false
   },
   "outputs": [
    {
     "data": {
      "text/plain": [
       "<matplotlib.collections.LineCollection at 0x98a3358>"
      ]
     },
     "execution_count": 25,
     "metadata": {},
     "output_type": "execute_result"
    },
    {
     "data": {
      "image/png": "[encoded data removed]",
      "text/plain": [
       "<matplotlib.figure.Figure at 0x98a32e8>"
      ]
     },
     "metadata": {},
     "output_type": "display_data"
    }
   ],
   "source": [
    "fig, ax = plt.subplots(1, 1)\n",
    "\n",
    "x = np.arange(poisson.ppf(0.01, mu), poisson.ppf(0.99, mu))\n",
    "ax.plot(x, poisson.pmf(x, mu), 'bo', ms = 8, label = 'poisson pmf')\n",
    "ax.vlines(x, 0, poisson.pmf(x, mu), colors = 'b', lw = 5, alpha = 0.5)"
   ]
  },
  {
   "cell_type": "markdown",
   "metadata": {},
   "source": [
    "#### a)"
   ]
  },
  {
   "cell_type": "code",
   "execution_count": 32,
   "metadata": {
    "collapsed": false
   },
   "outputs": [
    {
     "name": "stdout",
     "output_type": "stream",
     "text": [
      "A probabilidade da produção ser igual a 100 veículos nos próximos dois meses é de: 0.0398609968091\n"
     ]
    }
   ],
   "source": [
    "x = 100\n",
    "mu = 100 \n",
    "a = poisson.pmf(x, mu)\n",
    "\n",
    "print(\"A probabilidade da produção ser igual a 100 veículos nos próximos dois meses é de:\", a)"
   ]
  },
  {
   "cell_type": "markdown",
   "metadata": {},
   "source": [
    "#### b)"
   ]
  },
  {
   "cell_type": "code",
   "execution_count": 33,
   "metadata": {
    "collapsed": false
   },
   "outputs": [
    {
     "name": "stdout",
     "output_type": "stream",
     "text": [
      "A probabilidade da produção ser de pelo menos 100 veículos nos próximos dois meses é de: 0.52656219853\n"
     ]
    }
   ],
   "source": [
    "b = poisson.cdf(x, mu)\n",
    "print(\"A probabilidade da produção ser de pelo menos 100 veículos nos próximos dois meses é de:\", b)"
   ]
  },
  {
   "cell_type": "markdown",
   "metadata": {},
   "source": [
    "#### c)"
   ]
  },
  {
   "cell_type": "code",
   "execution_count": 34,
   "metadata": {
    "collapsed": false
   },
   "outputs": [
    {
     "name": "stdout",
     "output_type": "stream",
     "text": [
      "A probabilidade da produção ser entre 100 e 110 veículos nos próximos dois meses é de: 0.366161449837\n"
     ]
    }
   ],
   "source": [
    "x1 = 110\n",
    "x2 = 99\n",
    "\n",
    "c = poisson.cdf(x1, mu) - poisson.cdf(x2, mu)\n",
    "print(\"A probabilidade da produção ser entre 100 e 110 veículos nos próximos dois meses é de:\", c)"
   ]
  },
  {
   "cell_type": "markdown",
   "metadata": {},
   "source": [
    "#### d)"
   ]
  },
  {
   "cell_type": "code",
   "execution_count": null,
   "metadata": {
    "collapsed": true
   },
   "outputs": [],
   "source": []
  },
  {
   "cell_type": "code",
   "execution_count": 29,
   "metadata": {
    "collapsed": false
   },
   "outputs": [],
   "source": [
    "# pmf = P(Y=y)\n",
    "# cdf = P(Y<=y)\n",
    "# q = prob. acumulada - Pertence a 0, 1"
   ]
  }
 ],
 "metadata": {
  "anaconda-cloud": {},
  "kernelspec": {
   "display_name": "Python 3",
   "language": "python",
   "name": "python3"
  },
  "language_info": {
   "codemirror_mode": {
    "name": "ipython",
    "version": 3
   },
   "file_extension": ".py",
   "mimetype": "text/x-python",
   "name": "python",
   "nbconvert_exporter": "python",
   "pygments_lexer": "ipython3",
   "version": "3.5.2"
  }
 },
 "nbformat": 4,
 "nbformat_minor": 0
}
