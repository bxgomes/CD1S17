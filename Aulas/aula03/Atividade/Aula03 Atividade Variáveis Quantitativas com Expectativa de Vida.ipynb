{
 "cells": [
  {
   "cell_type": "markdown",
   "metadata": {},
   "source": [
    "___\n",
    "# Atividade: Variáveis quantitativas com Expectativa de Vida\n",
    "___\n",
    "\n",
    "## Aula 03\n",
    "\n",
    "\n",
    "\n",
    "**Preparo prévio:**\n",
    "1.\tLeitura prévia necessária: Magalhães e Lima (7ª. Edição): pág. 9 a 17 – destacando para variáveis quantitativas; pág. 106 e 107 (Definição 4.1 e Exemplo 4.1).\n",
    "\n",
    "**Hoje:**\n",
    "1. Explorar a variável quantitativa Expectativa de Vida de diversos países do mundo nos anos: 1800, 1926 e 2000. \n",
    "2. Construir tabelas de frequências e interpretar resultados considerando variáveis quantitativas de forma univariada. \n",
    "4. Explicar vantagens e desvantagens sobre o uso da frequência ou da densidade na construção de um histograma e saber interpretá-lo. \n",
    "5. Desenvolver contas para obtenção da média e mediana nos três anos.\n",
    "6. Identificar o formato dos dados (simétrico, assimétrico positivo ou assimétrico negativo) ao observar um histograma e explicar o que cada formato pode impactar nas medidas de posição.\n",
    "\n",
    "\n",
    "**Próxima aula:**\n",
    "1. Leitura prévia necessária: Magalhães e Lima (7ª. Edição): pág. 18 a 25; pág. 106 e 107 (Definição 4.1 e Exemplo 4.1); pág. 116 e 117 (Definição 4.4 e Exemplo 4.8). \n",
    "2. Leitura prévia necessária: Montgomery et al (5ª. Edição): pág. 24 a 28.\n",
    "___\n"
   ]
  },
  {
   "cell_type": "markdown",
   "metadata": {},
   "source": [
    "## <font color='blue'>Expectativa de Vida - LIFE</font>\n",
    "\n",
    "O Banco Mundial (http://data.worldbank.org/brazilian-portuguese) disponibiliza bases de dados estatísticos para um pouco mais de 200 países do mundo desde o ano 1800, as quais consideram uma seleção abrangente de indicadores econômicos, sociais e ambientais. Um desses indicadores é a expectativa de vida (em anos) de cada país.\n",
    "\n",
    "O arquivo `Life.xlsx` contém a expectativa de vida de vários países para os anos 1800, 1926 e 2000.\n",
    "\n",
    "Considerando esses dados, faça as seguintes tarefas:\n",
    "\n",
    "1.\tConstrua uma tabela de frequências absolutas e relativas (em %) para cada um dos anos. \n",
    "\n",
    "2.\tConstrua um histograma para cada ano e interprete os gráficos. \n",
    "\n",
    "3. De acordo com o formato de um histograma, é possível classificar a distribuição dos dados como sendo: simétrica, assimétrica positiva (ou a direita) ou assimétrica negativa (ou a esquerda). Observando o formato de cada histograma construído no item anterior, classifique como sendo simétrico, assimétrico positivo ou assimétrico negativo. Argumente claramente o motivo de sua classificação. \n",
    "![AssimSim](AssimSim.jpg)\n",
    "\n",
    "4.\tPara cada ano, calcule a expectativa média de vida, a expectativa mediana de vida e a classe modal.\n",
    "\n",
    "5.\tPara cada um dos três anos, ordene os valores das medidas de posição (média, mediana e classe modal) obtidas no item anterior. A ordem dessas três medidas de posição é um mero acaso ou pode ser consequência do formato dos dados? Argumente claramente sua resposta.\n"
   ]
  },
  {
   "cell_type": "code",
   "execution_count": 11,
   "metadata": {
    "collapsed": false
   },
   "outputs": [],
   "source": [
    "%matplotlib inline\n",
    "import pandas as pd\n",
    "import matplotlib.pyplot as plt\n",
    "import numpy as np\n",
    "import os"
   ]
  },
  {
   "cell_type": "code",
   "execution_count": 12,
   "metadata": {
    "collapsed": false
   },
   "outputs": [
    {
     "name": "stdout",
     "output_type": "stream",
     "text": [
      "Esperamos trabalhar no diretório\n",
      "C:\\Users\\Usuario\\Anaconda3\\Scripts\n"
     ]
    }
   ],
   "source": [
    "print('Esperamos trabalhar no diretório')\n",
    "print(os.getcwd())"
   ]
  },
  {
   "cell_type": "code",
   "execution_count": 13,
   "metadata": {
    "collapsed": false
   },
   "outputs": [],
   "source": [
    "dados = pd.read_excel('C:\\\\Users\\\\Usuario\\\\Documents\\\\Insper\\\\C.D\\\\DP\\\\aula03\\\\Atividade\\\\Life.xlsx')"
   ]
  },
  {
   "cell_type": "code",
   "execution_count": 14,
   "metadata": {
    "collapsed": false
   },
   "outputs": [
    {
     "data": {
      "text/html": [
       "<div>\n",
       "<table border=\"1\" class=\"dataframe\">\n",
       "  <thead>\n",
       "    <tr style=\"text-align: right;\">\n",
       "      <th></th>\n",
       "      <th>Pais</th>\n",
       "      <th>L1800</th>\n",
       "      <th>L1926</th>\n",
       "      <th>L2000</th>\n",
       "    </tr>\n",
       "  </thead>\n",
       "  <tbody>\n",
       "    <tr>\n",
       "      <th>0</th>\n",
       "      <td>Afghanistan</td>\n",
       "      <td>28.2110</td>\n",
       "      <td>26.919920</td>\n",
       "      <td>51.0</td>\n",
       "    </tr>\n",
       "    <tr>\n",
       "      <th>1</th>\n",
       "      <td>Albania</td>\n",
       "      <td>35.4000</td>\n",
       "      <td>35.400000</td>\n",
       "      <td>74.2</td>\n",
       "    </tr>\n",
       "    <tr>\n",
       "      <th>2</th>\n",
       "      <td>Algeria</td>\n",
       "      <td>28.8224</td>\n",
       "      <td>30.968000</td>\n",
       "      <td>73.2</td>\n",
       "    </tr>\n",
       "    <tr>\n",
       "      <th>3</th>\n",
       "      <td>Angola</td>\n",
       "      <td>26.9800</td>\n",
       "      <td>26.980000</td>\n",
       "      <td>52.6</td>\n",
       "    </tr>\n",
       "    <tr>\n",
       "      <th>4</th>\n",
       "      <td>Antigua and Barbuda</td>\n",
       "      <td>33.5360</td>\n",
       "      <td>37.673931</td>\n",
       "      <td>73.9</td>\n",
       "    </tr>\n",
       "  </tbody>\n",
       "</table>\n",
       "</div>"
      ],
      "text/plain": [
       "                  Pais    L1800      L1926  L2000\n",
       "0          Afghanistan  28.2110  26.919920   51.0\n",
       "1              Albania  35.4000  35.400000   74.2\n",
       "2              Algeria  28.8224  30.968000   73.2\n",
       "3               Angola  26.9800  26.980000   52.6\n",
       "4  Antigua and Barbuda  33.5360  37.673931   73.9"
      ]
     },
     "execution_count": 14,
     "metadata": {},
     "output_type": "execute_result"
    }
   ],
   "source": [
    "dados.head()"
   ]
  },
  {
   "cell_type": "code",
   "execution_count": 15,
   "metadata": {
    "collapsed": false
   },
   "outputs": [
    {
     "data": {
      "text/html": [
       "<div>\n",
       "<table border=\"1\" class=\"dataframe\">\n",
       "  <thead>\n",
       "    <tr style=\"text-align: right;\">\n",
       "      <th></th>\n",
       "      <th>L1800</th>\n",
       "      <th>L1926</th>\n",
       "      <th>L2000</th>\n",
       "    </tr>\n",
       "  </thead>\n",
       "  <tbody>\n",
       "    <tr>\n",
       "      <th>count</th>\n",
       "      <td>201.000000</td>\n",
       "      <td>201.000000</td>\n",
       "      <td>201.000000</td>\n",
       "    </tr>\n",
       "    <tr>\n",
       "      <th>mean</th>\n",
       "      <td>31.485800</td>\n",
       "      <td>36.353496</td>\n",
       "      <td>68.012856</td>\n",
       "    </tr>\n",
       "    <tr>\n",
       "      <th>std</th>\n",
       "      <td>3.763625</td>\n",
       "      <td>9.590987</td>\n",
       "      <td>9.211812</td>\n",
       "    </tr>\n",
       "    <tr>\n",
       "      <th>min</th>\n",
       "      <td>23.387000</td>\n",
       "      <td>23.387000</td>\n",
       "      <td>45.700000</td>\n",
       "    </tr>\n",
       "    <tr>\n",
       "      <th>25%</th>\n",
       "      <td>29.000000</td>\n",
       "      <td>30.400000</td>\n",
       "      <td>61.400000</td>\n",
       "    </tr>\n",
       "    <tr>\n",
       "      <th>50%</th>\n",
       "      <td>31.800000</td>\n",
       "      <td>32.800000</td>\n",
       "      <td>71.200000</td>\n",
       "    </tr>\n",
       "    <tr>\n",
       "      <th>75%</th>\n",
       "      <td>33.900000</td>\n",
       "      <td>39.360000</td>\n",
       "      <td>75.000000</td>\n",
       "    </tr>\n",
       "    <tr>\n",
       "      <th>max</th>\n",
       "      <td>42.845599</td>\n",
       "      <td>63.260000</td>\n",
       "      <td>81.100000</td>\n",
       "    </tr>\n",
       "  </tbody>\n",
       "</table>\n",
       "</div>"
      ],
      "text/plain": [
       "            L1800       L1926       L2000\n",
       "count  201.000000  201.000000  201.000000\n",
       "mean    31.485800   36.353496   68.012856\n",
       "std      3.763625    9.590987    9.211812\n",
       "min     23.387000   23.387000   45.700000\n",
       "25%     29.000000   30.400000   61.400000\n",
       "50%     31.800000   32.800000   71.200000\n",
       "75%     33.900000   39.360000   75.000000\n",
       "max     42.845599   63.260000   81.100000"
      ]
     },
     "execution_count": 15,
     "metadata": {},
     "output_type": "execute_result"
    }
   ],
   "source": [
    "# Descrição de todos os dados, dividido em anos\n",
    "dados.describe()"
   ]
  },
  {
   "cell_type": "code",
   "execution_count": 20,
   "metadata": {
    "collapsed": true
   },
   "outputs": [],
   "source": [
    "# Separação dos anos\n",
    "L1800 = dados.L1800\n",
    "L1926 = dados.L1926\n",
    "L2000 = dados.L2000"
   ]
  },
  {
   "cell_type": "markdown",
   "metadata": {},
   "source": [
    "## 1800"
   ]
  },
  {
   "cell_type": "code",
   "execution_count": 19,
   "metadata": {
    "collapsed": false
   },
   "outputs": [],
   "source": [
    "k = 14 # número de colunas (raíz de 200)\n",
    "a = 1.4 # amplitude de cada classe"
   ]
  },
  {
   "cell_type": "code",
   "execution_count": 22,
   "metadata": {
    "collapsed": true
   },
   "outputs": [],
   "source": [
    "faixa = np.arange(23.387000, 42.845599, 1,4)"
   ]
  },
  {
   "cell_type": "code",
   "execution_count": 24,
   "metadata": {
    "collapsed": false
   },
   "outputs": [
    {
     "name": "stdout",
     "output_type": "stream",
     "text": [
      "Frequências relativas:\n",
      "[23.387, 24.787)     2.5\n",
      "[24.787, 26.187)    10.0\n",
      "[26.187, 27.587)     4.5\n",
      "[27.587, 28.987)     8.0\n",
      "[28.987, 30.387)    11.5\n",
      "[30.387, 31.787)    13.5\n",
      "[31.787, 33.187)    21.0\n",
      "[33.187, 34.587)     8.5\n",
      "[34.587, 35.987)     8.5\n",
      "[35.987, 37.387)     6.5\n",
      "[37.387, 38.787)     3.5\n",
      "[38.787, 40.187)     2.0\n",
      "[40.187, 41.587)     0.0\n",
      "Name: L1800, dtype: float64 \n",
      "\n"
     ]
    }
   ],
   "source": [
    "# Tabelas univariada - L1800\n",
    "L1800cat = pd.cut(L1800, faixa, False)\n",
    "print('Frequências relativas:')\n",
    "ut1 = (L1800cat.value_counts(True)*100).round(decimals=1).reindex(['[23.387, 24.787)', '[24.787, 26.187)', '[26.187, 27.587)', \n",
    "                                                                   '[27.587, 28.987)', '[28.987, 30.387)', '[30.387, 31.787)', \n",
    "                                                                   '[31.787, 33.187)', '[33.187, 34.587)', '[34.587, 35.987)', \n",
    "                                                                   '[35.987, 37.387)', '[37.387, 38.787)', '[38.787, 40.187)', \n",
    "                                                                   '[40.187, 41.587)'])\n",
    "print(ut1,'\\n')"
   ]
  },
  {
   "cell_type": "code",
   "execution_count": 35,
   "metadata": {
    "collapsed": false
   },
   "outputs": [
    {
     "data": {
      "text/plain": [
       "<matplotlib.text.Text at 0x908cf28>"
      ]
     },
     "execution_count": 35,
     "metadata": {},
     "output_type": "execute_result"
    },
    {
     "data": {
      "image/png": "[encoded data removed]",
      "text/plain": [
       "<matplotlib.figure.Figure at 0x891a748>"
      ]
     },
     "metadata": {},
     "output_type": "display_data"
    }
   ],
   "source": [
    "# Gráfico de colunas com frequência absoluta\n",
    "plot = L1800.plot.hist(bins = faixa, title = '´GRAFICO DE COLUNAS - 1800', figsize = (6, 6), alpha = 0.5)\n",
    "plt.ylabel('Frequência absoluta')\n",
    "plt.xlabel('Idade')"
   ]
  },
  {
   "cell_type": "code",
   "execution_count": null,
   "metadata": {
    "collapsed": true
   },
   "outputs": [],
   "source": []
  },
  {
   "cell_type": "markdown",
   "metadata": {},
   "source": [
    "## 1926"
   ]
  },
  {
   "cell_type": "code",
   "execution_count": 29,
   "metadata": {
    "collapsed": false
   },
   "outputs": [],
   "source": [
    "k = 14 # número de colunas (raíz de 200)\n",
    "a = (63.260000 - 23.387000)/14 # amplitude de cada classe"
   ]
  },
  {
   "cell_type": "code",
   "execution_count": 30,
   "metadata": {
    "collapsed": true
   },
   "outputs": [],
   "source": [
    "faixa2 = np.arange(23.387000, 63.260000, a)"
   ]
  },
  {
   "cell_type": "code",
   "execution_count": 34,
   "metadata": {
    "collapsed": false
   },
   "outputs": [
    {
     "name": "stdout",
     "output_type": "stream",
     "text": [
      "Frequências relativas:\n",
      "[23.387, 26.235)      7.7\n",
      "[26.235, 29.0831)     9.8\n",
      "[29.0831, 31.931)    22.7\n",
      "[31.931, 34.779)     21.6\n",
      "[34.779, 37.627)      8.8\n",
      "[37.627, 40.475)     10.8\n",
      "[40.475, 43.324)      3.1\n",
      "[43.324, 46.172)      2.1\n",
      "[46.172, 49.0196)     3.6\n",
      "[49.0196, 51.868)     1.5\n",
      "[51.868, 54.716)      4.1\n",
      "[54.716, 57.564)      1.0\n",
      "[57.564, 60.412)      3.1\n",
      "Name: L1926, dtype: float64 \n",
      "\n"
     ]
    }
   ],
   "source": [
    "# Tabelas univariada - L1926\n",
    "L1926cat = pd.cut(L1926, faixa2, False)\n",
    "print('Frequências relativas:')\n",
    "ut1 = (L1926cat.value_counts(True)*100).round(decimals=1).reindex(['[23.387, 26.235)', '[26.235, 29.0831)', '[29.0831, 31.931)', \n",
    "                                                                   '[31.931, 34.779)', '[34.779, 37.627)', '[37.627, 40.475)', \n",
    "                                                                   '[40.475, 43.324)', '[43.324, 46.172)', '[46.172, 49.0196)', \n",
    "                                                                   '[49.0196, 51.868)', '[51.868, 54.716)', '[54.716, 57.564)', \n",
    "                                                                   '[57.564, 60.412)'])\n",
    "print(ut1,'\\n')"
   ]
  },
  {
   "cell_type": "code",
   "execution_count": 42,
   "metadata": {
    "collapsed": false
   },
   "outputs": [
    {
     "data": {
      "text/plain": [
       "<matplotlib.text.Text at 0x91ade48>"
      ]
     },
     "execution_count": 42,
     "metadata": {},
     "output_type": "execute_result"
    },
    {
     "data": {
      "image/png": "[encoded data removed]",
      "text/plain": [
       "<matplotlib.figure.Figure at 0x90ff7f0>"
      ]
     },
     "metadata": {},
     "output_type": "display_data"
    }
   ],
   "source": [
    "# Gráfico de colunas com frequência absoluta\n",
    "plot = L1926.plot.hist(bins = faixa2, title = '´GRAFICO DE COLUNAS - 1926', figsize = (6, 6), alpha = 0.5, color = 'green')\n",
    "plt.ylabel('Frequência absoluta')\n",
    "plt.xlabel('Idade')"
   ]
  },
  {
   "cell_type": "markdown",
   "metadata": {},
   "source": [
    "## 2000"
   ]
  },
  {
   "cell_type": "code",
   "execution_count": 38,
   "metadata": {
    "collapsed": true
   },
   "outputs": [],
   "source": [
    "k = 14 # número de colunas (raíz de 200)\n",
    "a = (81.100000 - 45.700000)/14 # amplitude de cada classe"
   ]
  },
  {
   "cell_type": "code",
   "execution_count": 39,
   "metadata": {
    "collapsed": true
   },
   "outputs": [],
   "source": [
    "faixa3 = np.arange(23.387000, 63.260000, a)"
   ]
  },
  {
   "cell_type": "code",
   "execution_count": 40,
   "metadata": {
    "collapsed": false
   },
   "outputs": [
    {
     "name": "stdout",
     "output_type": "stream",
     "text": [
      "Frequências relativas:\n",
      "[51.201, 53.73)      26.0\n",
      "[58.787, 61.316)     24.0\n",
      "[53.73, 56.258)      16.0\n",
      "[48.673, 51.201)     16.0\n",
      "[56.258, 58.787)     10.0\n",
      "[46.144, 48.673)      6.0\n",
      "[43.616, 46.144)      2.0\n",
      "[41.087, 43.616)      0.0\n",
      "[38.558, 41.087)      0.0\n",
      "[36.0299, 38.558)     0.0\n",
      "[33.501, 36.0299)     0.0\n",
      "[30.973, 33.501)      0.0\n",
      "[28.444, 30.973)      0.0\n",
      "[25.916, 28.444)      0.0\n",
      "[23.387, 25.916)      0.0\n",
      "Name: L2000, dtype: float64 \n",
      "\n"
     ]
    }
   ],
   "source": [
    "# Tabelas univariada - L2000\n",
    "L2000cat = pd.cut(L2000, faixa3, False)\n",
    "print('Frequências relativas:')\n",
    "ut3 = (L2000cat.value_counts(True)*100).round(decimals=1)#.reindex(['[23.387, 26.235)', '[26.235, 29.0831)', '[29.0831, 31.931)', \n",
    "                                                         #          '[31.931, 34.779)', '[34.779, 37.627)', '[37.627, 40.475)', \n",
    "                                                         #          '[40.475, 43.324)', '[43.324, 46.172)', '[46.172, 49.0196)', \n",
    "                                                         #          '[49.0196, 51.868)', '[51.868, 54.716)', '[54.716, 57.564)', \n",
    "                                                         #          '[57.564, 60.412)'])\n",
    "print(ut3,'\\n')"
   ]
  },
  {
   "cell_type": "code",
   "execution_count": 41,
   "metadata": {
    "collapsed": false
   },
   "outputs": [
    {
     "data": {
      "text/plain": [
       "<matplotlib.text.Text at 0xa27e7f0>"
      ]
     },
     "execution_count": 41,
     "metadata": {},
     "output_type": "execute_result"
    },
    {
     "data": {
      "image/png": "[encoded data removed]",
      "text/plain": [
       "<matplotlib.figure.Figure at 0xa271518>"
      ]
     },
     "metadata": {},
     "output_type": "display_data"
    }
   ],
   "source": [
    "# Gráfico de colunas com frequência absoluta\n",
    "plot = L2000.plot.hist(bins = faixa3, title = '´GRAFICO DE COLUNAS - 2000', figsize = (6, 6), alpha = 0.5, color = 'red')\n",
    "plt.ylabel('Frequência absoluta')\n",
    "plt.xlabel('Idade')"
   ]
  }
 ],
 "metadata": {
  "anaconda-cloud": {},
  "kernelspec": {
   "display_name": "Python 3",
   "language": "python",
   "name": "python3"
  },
  "language_info": {
   "codemirror_mode": {
    "name": "ipython",
    "version": 3
   },
   "file_extension": ".py",
   "mimetype": "text/x-python",
   "name": "python",
   "nbconvert_exporter": "python",
   "pygments_lexer": "ipython3",
   "version": "3.5.2"
  }
 },
 "nbformat": 4,
 "nbformat_minor": 0
}
