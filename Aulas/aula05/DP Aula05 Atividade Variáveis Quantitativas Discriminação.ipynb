{
 "cells": [
  {
   "cell_type": "markdown",
   "metadata": {},
   "source": [
    "___\n",
    "# Atividade: Duas variáveis quantitativas com Discriminação Salarial\n",
    "___\n",
    "\n",
    "## Aula 05\n",
    "\n",
    "\n",
    "**Preparo Prévio:**\n",
    "1. Leitura prévia necessária: Montgomery et al (5ª. Edição): Seção 2.6 (pág. 46) e Exemplo 6.1 (pág. 306).\n",
    "\n",
    "**Hoje:**\n",
    "1. Analisar, graficamente, a associação entre duas variáveis quantitativas.\n",
    "2. Compreender a medida nomeada coeficiente de covariância, no que tange ao significado da fórmula e uso do valor resultante para descrever associação entre variáveis.\n",
    "3. Avaliar vantagens e desvantagens do coeficiente de covariância e buscar alternativa que compense seu mau uso (coeficiente de correlação).\n",
    "4. Interpretar, descritivamente, valores dos coeficientes linear e angular para qualquer problema prático.\n",
    "5. Fechamento do conteúdo.\n",
    "\n",
    "\n",
    "**Próxima aula:**\n",
    "1. Estudo para PROJETO 1!\n",
    "\n",
    "___"
   ]
  },
  {
   "cell_type": "markdown",
   "metadata": {},
   "source": [
    "## <font color='blue'>Discriminação Salarial</font>\n",
    "\n",
    "Uma empresa está sendo acusada de pagar um salário maior para os homens do que para as mulheres. \n",
    "Para justificar a acusação, apresentou-se uma lista de salários de uma amostra de funcionários. \n",
    "Essa empresa tem motivos para se preocupar?\n",
    "\n",
    "A base de dados `Discriminação.xlsx` apresenta, para cada funcionário, as variáveis:\n",
    "1. Sexo ('fem' ou 'masc');\n",
    "2. Anos (anos no emprego; e \n",
    "3. Salario (salário mensal, em mil reais). \n",
    "\n",
    "Considerando esses dados, faça as seguintes tarefas:\n",
    "\n",
    "1. Análise descritiva completa considerando as ferramentas estatísticas e computacionais vistas até o momento. Faça essa análise com olhar na preocupação da empresa.\n",
    "___"
   ]
  },
  {
   "cell_type": "code",
   "execution_count": 2,
   "metadata": {
    "collapsed": false
   },
   "outputs": [],
   "source": [
    "%matplotlib inline\n",
    "import pandas as pd\n",
    "import matplotlib.pyplot as plt\n",
    "import numpy as np\n",
    "import os"
   ]
  },
  {
   "cell_type": "code",
   "execution_count": 3,
   "metadata": {
    "collapsed": false
   },
   "outputs": [
    {
     "name": "stdout",
     "output_type": "stream",
     "text": [
      "Esperamos trabalhar no diretório\n",
      "C:\\Users\\Usuario\\Anaconda3\\Scripts\n"
     ]
    }
   ],
   "source": [
    "print('Esperamos trabalhar no diretório')\n",
    "print(os.getcwd())"
   ]
  },
  {
   "cell_type": "code",
   "execution_count": 4,
   "metadata": {
    "collapsed": false
   },
   "outputs": [],
   "source": [
    "dados = pd.read_excel('C:\\\\Users\\\\Usuario\\\\Documents\\\\Insper\\\\C.D\\\\DP\\\\aula05\\\\Discriminação.xlsx')"
   ]
  },
  {
   "cell_type": "code",
   "execution_count": 5,
   "metadata": {
    "collapsed": false
   },
   "outputs": [
    {
     "data": {
      "text/html": [
       "<div>\n",
       "<table border=\"1\" class=\"dataframe\">\n",
       "  <thead>\n",
       "    <tr style=\"text-align: right;\">\n",
       "      <th></th>\n",
       "      <th>Sexo</th>\n",
       "      <th>Anos</th>\n",
       "      <th>Salario</th>\n",
       "    </tr>\n",
       "  </thead>\n",
       "  <tbody>\n",
       "    <tr>\n",
       "      <th>0</th>\n",
       "      <td>fem</td>\n",
       "      <td>9</td>\n",
       "      <td>39</td>\n",
       "    </tr>\n",
       "    <tr>\n",
       "      <th>1</th>\n",
       "      <td>fem</td>\n",
       "      <td>6</td>\n",
       "      <td>36</td>\n",
       "    </tr>\n",
       "    <tr>\n",
       "      <th>2</th>\n",
       "      <td>fem</td>\n",
       "      <td>10</td>\n",
       "      <td>40</td>\n",
       "    </tr>\n",
       "    <tr>\n",
       "      <th>3</th>\n",
       "      <td>fem</td>\n",
       "      <td>0</td>\n",
       "      <td>24</td>\n",
       "    </tr>\n",
       "    <tr>\n",
       "      <th>4</th>\n",
       "      <td>fem</td>\n",
       "      <td>9</td>\n",
       "      <td>36</td>\n",
       "    </tr>\n",
       "  </tbody>\n",
       "</table>\n",
       "</div>"
      ],
      "text/plain": [
       "  Sexo  Anos  Salario\n",
       "0  fem     9       39\n",
       "1  fem     6       36\n",
       "2  fem    10       40\n",
       "3  fem     0       24\n",
       "4  fem     9       36"
      ]
     },
     "execution_count": 5,
     "metadata": {},
     "output_type": "execute_result"
    }
   ],
   "source": [
    "dados.head()"
   ]
  },
  {
   "cell_type": "code",
   "execution_count": 11,
   "metadata": {
    "collapsed": false
   },
   "outputs": [],
   "source": [
    "sexo = dados.Sexo\n",
    "anos = dados.Anos\n",
    "sala = dados.Salario"
   ]
  },
  {
   "cell_type": "code",
   "execution_count": 26,
   "metadata": {
    "collapsed": false
   },
   "outputs": [],
   "source": [
    "salariofem = dados.iloc[0:32, (2)]\n",
    "salariomasc = dados.iloc[33:, (2)]\n",
    "\n",
    "anosfem = dados.iloc[0:32, (1)]\n",
    "anosmasc = dados.iloc[33:, (1)]"
   ]
  },
  {
   "cell_type": "code",
   "execution_count": 28,
   "metadata": {
    "collapsed": true
   },
   "outputs": [],
   "source": [
    "covmasc = salariomasc.cov(anosmasc)\n",
    "corrmasc = salariomasc.corr(anosmasc)\n",
    "\n",
    "covfem = salariofem.cov(anosfem)\n",
    "corrfem = salariofem.corr(anosfem)"
   ]
  },
  {
   "cell_type": "markdown",
   "metadata": {},
   "source": [
    "_______________"
   ]
  },
  {
   "cell_type": "markdown",
   "metadata": {},
   "source": [
    "### Scatter"
   ]
  },
  {
   "cell_type": "code",
   "execution_count": 57,
   "metadata": {
    "collapsed": true
   },
   "outputs": [],
   "source": [
    "a = anosmasc.cov(salariomasc) / anosmasc.var()\n",
    "b = salariomasc.mean() - a * anosmasc.mean() # Salário em média ao entrar na empresa\n",
    "\n",
    "c = anosfem.cov(salariofem) / anosfem.var()\n",
    "d = salariofem.mean() - a * anosfem.mean() # Salário em média ao entrar na empresa"
   ]
  },
  {
   "cell_type": "code",
   "execution_count": 83,
   "metadata": {
    "collapsed": false
   },
   "outputs": [
    {
     "data": {
      "text/plain": [
       "[<matplotlib.lines.Line2D at 0xdaad400>]"
      ]
     },
     "execution_count": 83,
     "metadata": {},
     "output_type": "execute_result"
    },
    {
     "data": {
      "image/png": "[encoded data removed]",
      "text/plain": [
       "<matplotlib.figure.Figure at 0xda07550>"
      ]
     },
     "metadata": {},
     "output_type": "display_data"
    }
   ],
   "source": [
    "fig = plt.figure(figsize=(16, 8))\n",
    "\n",
    "plt.subplot(221)\n",
    "plt.scatter(anosmasc, salariomasc, c = 'black', alpha = 0.8)\n",
    "plt.title(\"Salário por Ano (Masculino)\")\n",
    "plt.xlabel(\"Anos\")\n",
    "plt.ylabel(\"Salário\")\n",
    "plt.plot((anosmasc.min(), anosmasc.max()), (a * anosmasc.min() + b, a * anosmasc.max() + b), color = 'grey')\n",
    "\n",
    "plt.subplot(222)\n",
    "plt.scatter(anosfem, salariofem, c = 'pink', alpha = 0.8)\n",
    "plt.title(\"Salário por Ano (Feminino)\")\n",
    "plt.xlabel(\"Anos\")\n",
    "plt.ylabel(\"Salário\")\n",
    "plt.plot((anosfem.min(), anosfem.max()), (c * anosfem.min() + d, c * anosfem.max() + d), color = 'red')"
   ]
  },
  {
   "cell_type": "code",
   "execution_count": 93,
   "metadata": {
    "collapsed": false
   },
   "outputs": [
    {
     "data": {
      "text/plain": [
       "<matplotlib.legend.Legend at 0xe76b898>"
      ]
     },
     "execution_count": 93,
     "metadata": {},
     "output_type": "execute_result"
    },
    {
     "data": {
      "image/png": "[encoded data removed]",
      "text/plain": [
       "<matplotlib.figure.Figure at 0xe3acef0>"
      ]
     },
     "metadata": {},
     "output_type": "display_data"
    }
   ],
   "source": [
    "fig = plt.figure(figsize = (16, 6))\n",
    "\n",
    "plt.scatter(anosmasc, salariomasc, c = 'black', alpha = 0.8)\n",
    "plt.scatter(anosfem, salariofem, c = 'pink', alpha = 0.8)\n",
    "\n",
    "plt.title(\"Salário por Ano\")\n",
    "plt.xlabel(\"Anos\")\n",
    "plt.ylabel(\"Salário\")\n",
    "\n",
    "plt.plot((anosmasc.min(), anosmasc.max()), (a * anosmasc.min() + b, a * anosmasc.max() + b), color = 'grey')\n",
    "plt.plot((anosfem.min(), anosfem.max()), (c * anosfem.min() + d, c * anosfem.max() + d), color = 'red')\n",
    "\n",
    "# Legenda\n",
    "ax = plt.subplot(111)\n",
    "box = ax.get_position()\n",
    "ax.set_position([box.x0, box.y0, box.width * 0.8, box.height])\n",
    "ax.legend(('Ajuste Linear Masculino','Ajuste Linear Feminino', 'Masculino', 'Feminino'), loc = 'center left', \n",
    "          bbox_to_anchor = (1, 0.5))"
   ]
  },
  {
   "cell_type": "markdown",
   "metadata": {},
   "source": [
    "#### Covariância e Correlação"
   ]
  },
  {
   "cell_type": "code",
   "execution_count": 49,
   "metadata": {
    "collapsed": false
   },
   "outputs": [
    {
     "name": "stdout",
     "output_type": "stream",
     "text": [
      "A covariância masculina é: 63.27272727272727 e a feminina é: 28.933467741935484 \n",
      "\n",
      "A correlação masculina é: 0.6742016933667216 e a feminina é: 0.8022389898226462\n"
     ]
    }
   ],
   "source": [
    "print(\"A covariância masculina é: {0} e a feminina é: {1} \\n\".format(covmasc, covfem))\n",
    "print(\"A correlação masculina é: {0} e a feminina é: {1}\".format(corrmasc, corrfem))"
   ]
  },
  {
   "cell_type": "markdown",
   "metadata": {},
   "source": [
    "#### Coeficiente linear e Coeficiente angular"
   ]
  },
  {
   "cell_type": "code",
   "execution_count": 60,
   "metadata": {
    "collapsed": false
   },
   "outputs": [
    {
     "name": "stdout",
     "output_type": "stream",
     "text": [
      "Ajuste linear entre Anos Masculino e Salário Masculino:\n",
      "\n",
      "Coeficiente linear: 29.463426185\n",
      "Coeficiente angular: 1.01881431093\n"
     ]
    }
   ],
   "source": [
    "print('Ajuste linear entre Anos Masculino e Salário Masculino:\\n')\n",
    "print('Coeficiente linear:', b)\n",
    "print('Coeficiente angular:', a)"
   ]
  },
  {
   "cell_type": "code",
   "execution_count": 64,
   "metadata": {
    "collapsed": false
   },
   "outputs": [
    {
     "name": "stdout",
     "output_type": "stream",
     "text": [
      "Ajuste linear entre Anos Feminino e Salário Feminino:\n",
      "\n",
      "Coeficiente linear: 28.4007257179\n",
      "Coeficiente angular: 1.22553373185\n"
     ]
    }
   ],
   "source": [
    "print('Ajuste linear entre Anos Feminino e Salário Feminino:\\n')\n",
    "print('Coeficiente linear:', d)\n",
    "print('Coeficiente angular:', c)"
   ]
  },
  {
   "cell_type": "markdown",
   "metadata": {},
   "source": [
    "________________"
   ]
  },
  {
   "cell_type": "markdown",
   "metadata": {},
   "source": [
    "### Boxplot"
   ]
  }
 ],
 "metadata": {
  "anaconda-cloud": {},
  "kernelspec": {
   "display_name": "Python 3",
   "language": "python",
   "name": "python3"
  },
  "language_info": {
   "codemirror_mode": {
    "name": "ipython",
    "version": 3
   },
   "file_extension": ".py",
   "mimetype": "text/x-python",
   "name": "python",
   "nbconvert_exporter": "python",
   "pygments_lexer": "ipython3",
   "version": "3.5.2"
  }
 },
 "nbformat": 4,
 "nbformat_minor": 0
}
